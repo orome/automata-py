{
 "cells": [
  {
   "cell_type": "code",
   "execution_count": 1,
   "metadata": {
    "pycharm": {
     "name": "#%%\n"
    }
   },
   "outputs": [],
   "source": [
    "from ipywidgets import interact, interactive, fixed, interact_manual\n",
    "import ipywidgets as widgets"
   ]
  },
  {
   "cell_type": "code",
   "execution_count": 16,
   "metadata": {},
   "outputs": [
    {
     "name": "stdout",
     "output_type": "stream",
     "text": [
      "Package                Version\n",
      "---------------------- ---------\n",
      "anyio                  3.5.0\n",
      "appnope                0.1.2\n",
      "argon2-cffi            21.3.0\n",
      "argon2-cffi-bindings   21.2.0\n",
      "asttokens              2.0.5\n",
      "attrs                  21.4.0\n",
      "Babel                  2.9.1\n",
      "backcall               0.2.0\n",
      "black                  22.1.0\n",
      "bleach                 4.1.0\n",
      "certifi                2021.10.8\n",
      "cffi                   1.15.0\n",
      "charset-normalizer     2.0.11\n",
      "click                  8.0.3\n",
      "colorama               0.4.4\n",
      "cycler                 0.11.0\n",
      "debugpy                1.5.1\n",
      "decorator              5.1.1\n",
      "defusedxml             0.7.1\n",
      "entrypoints            0.3\n",
      "executing              0.8.2\n",
      "fonttools              4.29.1\n",
      "gitdb                  4.0.9\n",
      "GitPython              3.1.26\n",
      "idna                   3.3\n",
      "ipykernel              6.8.0\n",
      "ipympl                 0.8.7\n",
      "ipython                8.0.1\n",
      "ipython-genutils       0.2.0\n",
      "ipywidgets             7.6.5\n",
      "jedi                   0.18.1\n",
      "Jinja2                 3.0.3\n",
      "json5                  0.9.6\n",
      "jsonschema             4.4.0\n",
      "jupyter-client         7.1.2\n",
      "jupyter-core           4.9.1\n",
      "jupyter-kite           2.0.2\n",
      "jupyter-server         1.13.4\n",
      "jupyter-server-mathjax 0.2.3\n",
      "jupyterlab             3.2.8\n",
      "jupyterlab-git         0.34.2\n",
      "jupyterlab-kite        2.0.2\n",
      "jupyterlab-pygments    0.1.2\n",
      "jupyterlab-server      2.10.3\n",
      "jupyterlab-widgets     1.0.2\n",
      "kiwisolver             1.3.2\n",
      "MarkupSafe             2.0.1\n",
      "matplotlib             3.5.1\n",
      "matplotlib-inline      0.1.3\n",
      "mistune                0.8.4\n",
      "mypy-extensions        0.4.3\n",
      "nbclassic              0.3.5\n",
      "nbclient               0.5.10\n",
      "nbconvert              6.4.1\n",
      "nbdime                 3.1.1\n",
      "nbformat               5.1.3\n",
      "nest-asyncio           1.5.4\n",
      "notebook               6.4.8\n",
      "numpy                  1.22.1\n",
      "packaging              21.3\n",
      "pandocfilters          1.5.0\n",
      "parso                  0.8.3\n",
      "pathspec               0.9.0\n",
      "pexpect                4.8.0\n",
      "pickleshare            0.7.5\n",
      "Pillow                 9.0.0\n",
      "pip                    22.0.2\n",
      "platformdirs           2.4.1\n",
      "prometheus-client      0.13.1\n",
      "prompt-toolkit         3.0.26\n",
      "ptyprocess             0.7.0\n",
      "pure-eval              0.2.2\n",
      "pycparser              2.21\n",
      "Pygments               2.11.2\n",
      "pyparsing              3.0.7\n",
      "pyrsistent             0.18.1\n",
      "python-dateutil        2.8.2\n",
      "pytz                   2021.3\n",
      "pyzmq                  22.3.0\n",
      "requests               2.27.1\n",
      "Send2Trash             1.8.0\n",
      "setuptools             60.2.0\n",
      "six                    1.16.0\n",
      "smmap                  5.0.0\n",
      "sniffio                1.2.0\n",
      "stack-data             0.1.4\n",
      "terminado              0.13.1\n",
      "testpath               0.5.0\n",
      "tomli                  2.0.0\n",
      "tornado                6.1\n",
      "traitlets              5.1.1\n",
      "typing_extensions      4.0.1\n",
      "urllib3                1.26.8\n",
      "wcwidth                0.2.5\n",
      "webencodings           0.5.1\n",
      "websocket-client       1.2.3\n",
      "wheel                  0.37.1\n",
      "widgetsnbextension     3.5.2\n",
      "\u001b[33mWARNING: You are using pip version 22.0.2; however, version 22.1.2 is available.\n",
      "You should consider upgrading via the '/Users/Roy/Documents/Projects/Coding/Python/venvs/automata/bin/python -m pip install --upgrade pip' command.\u001b[0m\u001b[33m\n",
      "\u001b[0m"
     ]
    }
   ],
   "source": [
    "!pip list"
   ]
  },
  {
   "cell_type": "code",
   "execution_count": 2,
   "metadata": {
    "pycharm": {
     "name": "#%%\n"
    }
   },
   "outputs": [],
   "source": [
    "from machine import *"
   ]
  },
  {
   "cell_type": "code",
   "execution_count": 3,
   "metadata": {
    "pycharm": {
     "name": "#%%\n"
    }
   },
   "outputs": [],
   "source": [
    "# ?TuringMachine"
   ]
  },
  {
   "cell_type": "code",
   "execution_count": 4,
   "metadata": {
    "pycharm": {
     "name": "#%%\n"
    }
   },
   "outputs": [],
   "source": [
    "# ?TuringMachine.step"
   ]
  },
  {
   "cell_type": "code",
   "execution_count": 5,
   "metadata": {
    "pycharm": {
     "name": "#%%\n"
    }
   },
   "outputs": [],
   "source": [
    "# ?TuringMachine.steps"
   ]
  },
  {
   "cell_type": "code",
   "execution_count": 6,
   "metadata": {
    "pycharm": {
     "name": "#%%\n"
    }
   },
   "outputs": [],
   "source": [
    "#%load examples.py"
   ]
  },
  {
   "cell_type": "code",
   "execution_count": 7,
   "metadata": {
    "pycharm": {
     "name": "#%%\n"
    }
   },
   "outputs": [],
   "source": [
    "# Alternating 1s and 0s with blanks (Petzold p. 81, Turing p. 233))\n",
    "alternate = {\n",
    "    'b':\n",
    "        {E: (['0', R], 'c')},\n",
    "    'c':\n",
    "        {E: Behavior([R], 'e')},\n",
    "    'e':\n",
    "        {E: (['1', R], 'f')},\n",
    "    'f':\n",
    "        {E: ([R], 'b')}\n",
    "}\n",
    "alternate_machine = TuringMachine('b', alternate)"
   ]
  },
  {
   "cell_type": "code",
   "execution_count": 8,
   "metadata": {
    "pycharm": {
     "name": "#%%\n"
    }
   },
   "outputs": [],
   "source": [
    "# Alternating 1s and 0s with blanks and allowing multiple operations (Petzold p. 84, Turing p. 234)\n",
    "alternate_compact = {\n",
    "    'b':\n",
    "        {E: (['0'], 'b'),\n",
    "         '0': ([R, R, '1'], 'b'),\n",
    "         '1': ([R, R, '0'], 'b')}\n",
    "}\n",
    "alternate_compact_machine = TuringMachine('b', alternate_compact)"
   ]
  },
  {
   "cell_type": "code",
   "execution_count": 9,
   "metadata": {
    "pycharm": {
     "name": "#%%\n"
    }
   },
   "outputs": [],
   "source": [
    "# Alternating 1s and 0s with blanks, in standard form (Petzold p. 139, Turing p. 241))\n",
    "alternate_standard = {\n",
    "    'b':\n",
    "        {E: (['0', R], 'c')},\n",
    "    'c':\n",
    "        {E: ([E, R], 'e')},\n",
    "    'e':\n",
    "        {E: (['1', R], 'f')},\n",
    "    'f':\n",
    "        {E: ([E, R], 'b')}\n",
    "}\n",
    "alternate_standard_machine = TuringMachine('b', alternate_standard)"
   ]
  },
  {
   "cell_type": "code",
   "execution_count": 10,
   "metadata": {
    "pycharm": {
     "name": "#%%\n"
    }
   },
   "outputs": [],
   "source": [
    "# Binary increment (https://turingmachine.io)\n",
    "increment = {\n",
    "    'r':\n",
    "        {E: ([L], 'c', \"Scanning complete: backup and enter c\"),\n",
    "         ('0', '1'): ([R], 'r', \"Scan to the rightmost digit...\")},\n",
    "    'c':\n",
    "        {(E, '0'): (['1', L], 'd', \"Done: complete carry and enter d\"),\n",
    "         '1': (['0', L], 'c', \"Carry...\")}\n",
    "}\n",
    "increment_machine = TuringMachine('r', increment, initial_tape='1011101111111')"
   ]
  },
  {
   "cell_type": "code",
   "execution_count": 11,
   "metadata": {
    "pycharm": {
     "name": "#%%\n"
    }
   },
   "outputs": [],
   "source": [
    "increasing = {\n",
    "    'b':\n",
    "        {E: (['ə', R, 'ə', R, '0', R, R, '0', L, L], 'o', \"Initialize\")},\n",
    "    'o':\n",
    "        {'1': ([R, 'x', L, L, L], 'o', \"Mark a block of consecutive 1s...\"),\n",
    "         '0': ([], 'q', \"Done marking 1s\")},\n",
    "    'q':\n",
    "        {('0', '1'): ([R, R], 'q', \"Scan right along written F squares...\"), \n",
    "         E: (['1', L], 'p', \"Write a 1 and move to the preceding E square\")},\n",
    "    'p':\n",
    "        {'x': ([E, R], 'q'),\n",
    "         'ə': ([R], 'f'),\n",
    "         E: ([L, L], 'p')},\n",
    "    'f':\n",
    "        {('0', '1'): ([R, R], 'f', \"Scan right along written F squares...\"), \n",
    "         E: (['0', L, L], 'o', \"Write a 0 and move to the preceding F square\")},\n",
    "}\n",
    "increasing_machine = TuringMachine('b', increasing, initial_tape=E)"
   ]
  },
  {
   "cell_type": "code",
   "execution_count": 12,
   "metadata": {
    "pycharm": {
     "name": "#%%\n"
    }
   },
   "outputs": [],
   "source": [
    "alt_steps = [step.display_text() for step in alternate_machine.steps(100)]"
   ]
  },
  {
   "cell_type": "code",
   "execution_count": 13,
   "metadata": {
    "pycharm": {
     "name": "#%%\n"
    }
   },
   "outputs": [
    {
     "data": {
      "application/vnd.jupyter.widget-view+json": {
       "model_id": "813545cacee2453c93896ea85717a7f2",
       "version_major": 2,
       "version_minor": 0
      },
      "text/plain": [
       "interactive(children=(IntSlider(value=0, description='s', max=99), Output()), _dom_classes=('widget-interact',…"
      ]
     },
     "metadata": {},
     "output_type": "display_data"
    }
   ],
   "source": [
    "@interact(s=(0,99,1))\n",
    "def show_alt_step(s=0):\n",
    "    print(alt_steps[s])\n",
    "    return"
   ]
  },
  {
   "cell_type": "code",
   "execution_count": 14,
   "metadata": {
    "pycharm": {
     "name": "#%%\n"
    }
   },
   "outputs": [],
   "source": [
    "add_steps = [step.display_text(show_comments=True, show_behavior=True) for step in increment_machine.steps(100)]"
   ]
  },
  {
   "cell_type": "code",
   "execution_count": 15,
   "metadata": {
    "pycharm": {
     "name": "#%%\n"
    }
   },
   "outputs": [
    {
     "data": {
      "application/vnd.jupyter.widget-view+json": {
       "model_id": "657786c9c0a6457d8cb8dcd9c18ad2c1",
       "version_major": 2,
       "version_minor": 0
      },
      "text/plain": [
       "interactive(children=(IntSlider(value=0, description='s', max=99), Output()), _dom_classes=('widget-interact',…"
      ]
     },
     "metadata": {},
     "output_type": "display_data"
    }
   ],
   "source": [
    "@interact(s=(0,99,1))\n",
    "def show_add_step(s=0):\n",
    "    print(add_steps[s])\n",
    "    return"
   ]
  },
  {
   "cell_type": "code",
   "execution_count": 16,
   "metadata": {
    "pycharm": {
     "name": "#%%\n"
    }
   },
   "outputs": [],
   "source": [
    "inc_steps = [step.display_text(symbol_highlight=\"\\u001b[47m\\u001b[30;1m{}\\u001b[0m\",\n",
    "                               m_config_highlight=\"\\u001b[30;1m{}\\u001b[0m\", \n",
    "                               show_step=True, # step_pad=(5,'0'),\n",
    "                               annotations_highlight=\"\\u001b[37;2m{}\\u001b[0m\",\n",
    "                               show_comments=True, show_behavior=True) \n",
    "             for step in increasing_machine.steps(1000)]"
   ]
  },
  {
   "cell_type": "code",
   "execution_count": 17,
   "metadata": {
    "pycharm": {
     "name": "#%%\n"
    }
   },
   "outputs": [
    {
     "data": {
      "application/vnd.jupyter.widget-view+json": {
       "model_id": "349b95adb11c457fbec3a98456aa6010",
       "version_major": 2,
       "version_minor": 0
      },
      "text/plain": [
       "interactive(children=(IntSlider(value=0, description='s', max=999), Output()), _dom_classes=('widget-interact'…"
      ]
     },
     "metadata": {},
     "output_type": "display_data"
    }
   ],
   "source": [
    "@interact(s=(0,999,1))\n",
    "def show_inc_step(s=0):\n",
    "    print(inc_steps[s])\n",
    "    return"
   ]
  },
  {
   "cell_type": "code",
   "execution_count": 17,
   "metadata": {
    "pycharm": {
     "name": "#%%\n"
    }
   },
   "outputs": [],
   "source": []
  }
 ],
 "metadata": {
  "kernelspec": {
   "display_name": "Python 3 (ipykernel)",
   "language": "python",
   "name": "python3"
  },
  "language_info": {
   "codemirror_mode": {
    "name": "ipython",
    "version": 3
   },
   "file_extension": ".py",
   "mimetype": "text/x-python",
   "name": "python",
   "nbconvert_exporter": "python",
   "pygments_lexer": "ipython3",
   "version": "3.9.13"
  },
  "widgets": {
   "application/vnd.jupyter.widget-state+json": {
    "state": {
     "1ffa71ac12cc4922a8b53cec469ccbe6": {
      "model_module": "@jupyter-widgets/controls",
      "model_module_version": "1.5.0",
      "model_name": "SliderStyleModel",
      "state": {
       "description_width": ""
      }
     },
     "33db6e89cb2e4fcc9ef189c278fd07a6": {
      "model_module": "@jupyter-widgets/output",
      "model_module_version": "1.0.0",
      "model_name": "OutputModel",
      "state": {
       "layout": "IPY_MODEL_34f373ede23942ccb258d90133b44e20",
       "outputs": [
        {
         "name": "stdout",
         "output_type": "stream",
         "text": "0 1 0 1 0 1 0 1 0 1 0 1 0 1 0 1 0 | |\n                                  |e|\n"
        }
       ]
      }
     },
     "34f373ede23942ccb258d90133b44e20": {
      "model_module": "@jupyter-widgets/base",
      "model_module_version": "1.2.0",
      "model_name": "LayoutModel",
      "state": {}
     },
     "657786c9c0a6457d8cb8dcd9c18ad2c1": {
      "model_module": "@jupyter-widgets/controls",
      "model_module_version": "1.5.0",
      "model_name": "VBoxModel",
      "state": {
       "_dom_classes": [
        "widget-interact"
       ],
       "children": [
        "IPY_MODEL_a914b1d07563481ba333d0f3e889ac95",
        "IPY_MODEL_c28ac0f8e93f43b289cd34683042d8da"
       ],
       "layout": "IPY_MODEL_769e44a5a8074796a35efc6891973170"
      }
     },
     "769e44a5a8074796a35efc6891973170": {
      "model_module": "@jupyter-widgets/base",
      "model_module_version": "1.2.0",
      "model_name": "LayoutModel",
      "state": {}
     },
     "78bdd3b9ddf4450bbcfebeacd54180a7": {
      "model_module": "@jupyter-widgets/controls",
      "model_module_version": "1.5.0",
      "model_name": "SliderStyleModel",
      "state": {
       "description_width": ""
      }
     },
     "813545cacee2453c93896ea85717a7f2": {
      "model_module": "@jupyter-widgets/controls",
      "model_module_version": "1.5.0",
      "model_name": "VBoxModel",
      "state": {
       "_dom_classes": [
        "widget-interact"
       ],
       "children": [
        "IPY_MODEL_b10bea47ec3f4730b2268b5d42959572",
        "IPY_MODEL_33db6e89cb2e4fcc9ef189c278fd07a6"
       ],
       "layout": "IPY_MODEL_c38d91da23e14bb39efdeb9d866ecba6"
      }
     },
     "8e9e074bf8cb4a969b37fce739779f87": {
      "model_module": "@jupyter-widgets/base",
      "model_module_version": "1.2.0",
      "model_name": "LayoutModel",
      "state": {}
     },
     "a44d5be99d23429fb631125a0f8af308": {
      "model_module": "@jupyter-widgets/base",
      "model_module_version": "1.2.0",
      "model_name": "LayoutModel",
      "state": {}
     },
     "a914b1d07563481ba333d0f3e889ac95": {
      "model_module": "@jupyter-widgets/controls",
      "model_module_version": "1.5.0",
      "model_name": "IntSliderModel",
      "state": {
       "description": "s",
       "layout": "IPY_MODEL_a44d5be99d23429fb631125a0f8af308",
       "max": 99,
       "style": "IPY_MODEL_78bdd3b9ddf4450bbcfebeacd54180a7",
       "value": 33
      }
     },
     "b10bea47ec3f4730b2268b5d42959572": {
      "model_module": "@jupyter-widgets/controls",
      "model_module_version": "1.5.0",
      "model_name": "IntSliderModel",
      "state": {
       "description": "s",
       "layout": "IPY_MODEL_8e9e074bf8cb4a969b37fce739779f87",
       "max": 99,
       "style": "IPY_MODEL_1ffa71ac12cc4922a8b53cec469ccbe6",
       "value": 34
      }
     },
     "c28ac0f8e93f43b289cd34683042d8da": {
      "model_module": "@jupyter-widgets/output",
      "model_module_version": "1.0.0",
      "model_name": "OutputModel",
      "state": {
       "layout": "IPY_MODEL_cb98c10aee5641eaaa01d695f9b01482",
       "outputs": [
        {
         "name": "stdout",
         "output_type": "stream",
         "text": "1011|1|10000000 \n    |d|  →  ? | ?  (Unspecified)\n"
        }
       ]
      }
     },
     "c38d91da23e14bb39efdeb9d866ecba6": {
      "model_module": "@jupyter-widgets/base",
      "model_module_version": "1.2.0",
      "model_name": "LayoutModel",
      "state": {}
     },
     "cb98c10aee5641eaaa01d695f9b01482": {
      "model_module": "@jupyter-widgets/base",
      "model_module_version": "1.2.0",
      "model_name": "LayoutModel",
      "state": {}
     }
    },
    "version_major": 2,
    "version_minor": 0
   }
  }
 },
 "nbformat": 4,
 "nbformat_minor": 4
}
