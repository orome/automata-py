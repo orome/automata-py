{
 "cells": [
  {
   "cell_type": "code",
   "execution_count": 1,
   "metadata": {},
   "outputs": [],
   "source": [
    "from ipywidgets import interact, interactive, fixed, interact_manual\n",
    "import ipywidgets as widgets"
   ]
  },
  {
   "cell_type": "code",
   "execution_count": 2,
   "metadata": {},
   "outputs": [],
   "source": [
    "from machine import *"
   ]
  },
  {
   "cell_type": "code",
   "execution_count": 4,
   "metadata": {},
   "outputs": [],
   "source": [
    "# ?TuringMachine"
   ]
  },
  {
   "cell_type": "code",
   "execution_count": 5,
   "metadata": {},
   "outputs": [],
   "source": [
    "# ?TuringMachine.step"
   ]
  },
  {
   "cell_type": "code",
   "execution_count": 6,
   "metadata": {},
   "outputs": [],
   "source": [
    "# ?TuringMachine.steps"
   ]
  },
  {
   "cell_type": "code",
   "execution_count": 7,
   "metadata": {},
   "outputs": [],
   "source": [
    "#%load examples.py"
   ]
  },
  {
   "cell_type": "code",
   "execution_count": 10,
   "metadata": {},
   "outputs": [],
   "source": [
    "# Alternating 1s and 0s with blanks (Petzold p. 81, Turing p. 233))\n",
    "alternate = {\n",
    "    'b':\n",
    "        {E: (['0', R], 'c')},\n",
    "    'c':\n",
    "        {E: Behavior([R], 'e')},\n",
    "    'e':\n",
    "        {E: (['1', R], 'f')},\n",
    "    'f':\n",
    "        {E: ([R], 'b')}\n",
    "}\n",
    "alternate_machine = TuringMachine('b', alternate)"
   ]
  },
  {
   "cell_type": "code",
   "execution_count": 11,
   "metadata": {},
   "outputs": [],
   "source": [
    "# Alternating 1s and 0s with blanks and allowing multiple operations (Petzold p. 84, Turing p. 234)\n",
    "alternate_compact = {\n",
    "    'b':\n",
    "        {E: (['0'], 'b'),\n",
    "         '0': ([R, R, '1'], 'b'),\n",
    "         '1': ([R, R, '0'], 'b')}\n",
    "}\n",
    "alternate_compact_machine = TuringMachine('b', alternate_compact)"
   ]
  },
  {
   "cell_type": "code",
   "execution_count": 12,
   "metadata": {},
   "outputs": [],
   "source": [
    "# Alternating 1s and 0s with blanks, in standard form (Petzold p. 139, Turing p. 241))\n",
    "alternate_standard = {\n",
    "    'b':\n",
    "        {E: (['0', R], 'c')},\n",
    "    'c':\n",
    "        {E: ([E, R], 'e')},\n",
    "    'e':\n",
    "        {E: (['1', R], 'f')},\n",
    "    'f':\n",
    "        {E: ([E, R], 'b')}\n",
    "}\n",
    "alternate_standard_machine = TuringMachine('b', alternate_standard)"
   ]
  },
  {
   "cell_type": "code",
   "execution_count": 13,
   "metadata": {},
   "outputs": [],
   "source": [
    "# Binary increment (https://turingmachine.io)\n",
    "increment = {\n",
    "    'r':\n",
    "        {E: ([L], 'c', \"Scanning complete: backup and enter c\"),\n",
    "         ('0', '1'): ([R], 'r', \"Scan to the rightmost digit...\")},\n",
    "    'c':\n",
    "        {(E, '0'): (['1', L], 'd', \"Done: complete carry and enter d\"),\n",
    "         '1': (['0', L], 'c', \"Carry...\")}\n",
    "}\n",
    "increment_machine = TuringMachine('r', increment, initial_tape='1011101111111')"
   ]
  },
  {
   "cell_type": "code",
   "execution_count": 14,
   "metadata": {},
   "outputs": [],
   "source": [
    "increasing = {\n",
    "    'b':\n",
    "        {E: (['ə', R, 'ə', R, '0', R, R, '0', L, L], 'o', \"Initialize\")},\n",
    "    'o':\n",
    "        {'1': ([R, 'x', L, L, L], 'o', \"Mark a block of consecutive 1s...\"),\n",
    "         '0': ([], 'q', \"Done marking 1s\")},\n",
    "    'q':\n",
    "        {('0', '1'): ([R, R], 'q', \"Scan right along written F squares...\"), \n",
    "         E: (['1', L], 'p', \"Write a 1 and move to the preceding E square\")},\n",
    "    'p':\n",
    "        {'x': ([E, R], 'q'),\n",
    "         'ə': ([R], 'f'),\n",
    "         E: ([L, L], 'p')},\n",
    "    'f':\n",
    "        {('0', '1'): ([R, R], 'f', \"Scan right along written F squares...\"), \n",
    "         E: (['0', L, L], 'o', \"Write a 0 and move to the preceding F square\")},\n",
    "}\n",
    "increasing_machine = TuringMachine('b', increasing, initial_tape=E)"
   ]
  },
  {
   "cell_type": "code",
   "execution_count": 15,
   "metadata": {},
   "outputs": [],
   "source": [
    "alt_steps = [step.display_text() for step in alternate_machine.steps(100)]"
   ]
  },
  {
   "cell_type": "code",
   "execution_count": 16,
   "metadata": {},
   "outputs": [
    {
     "data": {
      "application/vnd.jupyter.widget-view+json": {
       "model_id": "d621901c49904d3bb3576e2b7e89bfd8",
       "version_major": 2,
       "version_minor": 0
      },
      "text/plain": [
       "interactive(children=(IntSlider(value=0, description='s', max=99), Output()), _dom_classes=('widget-interact',…"
      ]
     },
     "metadata": {},
     "output_type": "display_data"
    }
   ],
   "source": [
    "@interact(s=(0,99,1))\n",
    "def show_alt_step(s=0):\n",
    "    print(alt_steps[s])\n",
    "    return"
   ]
  },
  {
   "cell_type": "code",
   "execution_count": 19,
   "metadata": {},
   "outputs": [],
   "source": [
    "add_steps = [step.display_text(show_comments=True, show_behavior=True) for step in increment_machine.steps(100)]"
   ]
  },
  {
   "cell_type": "code",
   "execution_count": 20,
   "metadata": {},
   "outputs": [
    {
     "data": {
      "application/vnd.jupyter.widget-view+json": {
       "model_id": "c58105b9501342139ac33b6882b1f3bc",
       "version_major": 2,
       "version_minor": 0
      },
      "text/plain": [
       "interactive(children=(IntSlider(value=0, description='s', max=99), Output()), _dom_classes=('widget-interact',…"
      ]
     },
     "metadata": {},
     "output_type": "display_data"
    }
   ],
   "source": [
    "@interact(s=(0,99,1))\n",
    "def show_add_step(s=0):\n",
    "    print(add_steps[s])\n",
    "    return"
   ]
  },
  {
   "cell_type": "code",
   "execution_count": 21,
   "metadata": {},
   "outputs": [],
   "source": [
    "inc_steps = [step.display_text(symbol_highlight=\"\\u001b[47m\\u001b[30;1m{}\\u001b[0m\",\n",
    "                               m_config_highlight=\"\\u001b[30;1m{}\\u001b[0m\", \n",
    "                               show_step=True, # step_pad=(5,'0'),\n",
    "                               annotations_highlight=\"\\u001b[37;2m{}\\u001b[0m\",\n",
    "                               show_comments=True, show_behavior=True) \n",
    "             for step in increasing_machine.steps(1000)]"
   ]
  },
  {
   "cell_type": "code",
   "execution_count": 22,
   "metadata": {},
   "outputs": [
    {
     "data": {
      "application/vnd.jupyter.widget-view+json": {
       "model_id": "e9faab83d65744e091ac673375106c56",
       "version_major": 2,
       "version_minor": 0
      },
      "text/plain": [
       "interactive(children=(IntSlider(value=0, description='s', max=999), Output()), _dom_classes=('widget-interact'…"
      ]
     },
     "metadata": {},
     "output_type": "display_data"
    }
   ],
   "source": [
    "@interact(s=(0,999,1))\n",
    "def show_inc_step(s=0):\n",
    "    print(inc_steps[s])\n",
    "    return"
   ]
  }
 ],
 "metadata": {
  "kernelspec": {
   "display_name": "automata (Python 3, venv)",
   "language": "python",
   "name": "automata_env"
  },
  "language_info": {
   "codemirror_mode": {
    "name": "ipython",
    "version": 3
   },
   "file_extension": ".py",
   "mimetype": "text/x-python",
   "name": "python",
   "nbconvert_exporter": "python",
   "pygments_lexer": "ipython3",
   "version": "3.9.6"
  },
  "widgets": {
   "application/vnd.jupyter.widget-state+json": {
    "state": {
     "08d9e6f7e8004eeaa52eabe7dba7d6e2": {
      "model_module": "@jupyter-widgets/controls",
      "model_module_version": "1.5.0",
      "model_name": "IntSliderModel",
      "state": {
       "description": "s",
       "layout": "IPY_MODEL_a7dd6ed3e6ee4c549a27ed944b575205",
       "max": 99,
       "style": "IPY_MODEL_f0c58dae2b6a4c44a0e28e0cb6ba569e"
      }
     },
     "0b004970aaa34452aad5d3169c73a9aa": {
      "model_module": "@jupyter-widgets/base",
      "model_module_version": "1.2.0",
      "model_name": "LayoutModel",
      "state": {}
     },
     "1f00f965a7ee43d485fb8f3e771b8216": {
      "model_module": "@jupyter-widgets/base",
      "model_module_version": "1.2.0",
      "model_name": "LayoutModel",
      "state": {}
     },
     "20bd254e8b414ea2b950478f0ccda21b": {
      "model_module": "@jupyter-widgets/base",
      "model_module_version": "1.2.0",
      "model_name": "LayoutModel",
      "state": {}
     },
     "2eba840ecbdc4282ac69bee0a86103f8": {
      "model_module": "@jupyter-widgets/output",
      "model_module_version": "1.0.0",
      "model_name": "OutputModel",
      "state": {
       "layout": "IPY_MODEL_5e7276df711b40bc991cbee823a93171",
       "outputs": [
        {
         "name": "stdout",
         "output_type": "stream",
         "text": "|1|011101111111\n|r|  →  R | r  (Scan to the rightmost digit...)\n"
        }
       ]
      }
     },
     "48542491f0e34c8bb34f990c59c0fee3": {
      "model_module": "@jupyter-widgets/controls",
      "model_module_version": "1.5.0",
      "model_name": "SliderStyleModel",
      "state": {
       "description_width": ""
      }
     },
     "526e6aa89ac34ee2bd5702a48f0131b7": {
      "model_module": "@jupyter-widgets/controls",
      "model_module_version": "1.5.0",
      "model_name": "IntSliderModel",
      "state": {
       "description": "s",
       "layout": "IPY_MODEL_1f00f965a7ee43d485fb8f3e771b8216",
       "max": 99,
       "style": "IPY_MODEL_67883d408d0143ce86b4a6ca9c5491d6",
       "value": 28
      }
     },
     "5cac508ba82d40eeba49343329366b67": {
      "model_module": "@jupyter-widgets/base",
      "model_module_version": "1.2.0",
      "model_name": "LayoutModel",
      "state": {}
     },
     "5e7276df711b40bc991cbee823a93171": {
      "model_module": "@jupyter-widgets/base",
      "model_module_version": "1.2.0",
      "model_name": "LayoutModel",
      "state": {}
     },
     "651e511e442246b08d290c3559cdfb71": {
      "model_module": "@jupyter-widgets/output",
      "model_module_version": "1.0.0",
      "model_name": "OutputModel",
      "state": {
       "layout": "IPY_MODEL_90ab9753abfe4480b44cae3fdd71e8fa",
       "outputs": [
        {
         "name": "stdout",
         "output_type": "stream",
         "text": "0 1 0 1 0 1 0 1 0 1 0 1 0 1 | |\n                            |b|\n"
        }
       ]
      }
     },
     "67883d408d0143ce86b4a6ca9c5491d6": {
      "model_module": "@jupyter-widgets/controls",
      "model_module_version": "1.5.0",
      "model_name": "SliderStyleModel",
      "state": {
       "description_width": ""
      }
     },
     "67b2f52121054f6894b4df189be60a80": {
      "model_module": "@jupyter-widgets/controls",
      "model_module_version": "1.5.0",
      "model_name": "IntSliderModel",
      "state": {
       "description": "s",
       "layout": "IPY_MODEL_5cac508ba82d40eeba49343329366b67",
       "max": 999,
       "style": "IPY_MODEL_48542491f0e34c8bb34f990c59c0fee3",
       "value": 374
      }
     },
     "6f9267b8f3ef4a4c9943c5a316dd3276": {
      "model_module": "@jupyter-widgets/base",
      "model_module_version": "1.2.0",
      "model_name": "LayoutModel",
      "state": {}
     },
     "71789e9729df4134854e97021ca01d81": {
      "model_module": "@jupyter-widgets/base",
      "model_module_version": "1.2.0",
      "model_name": "LayoutModel",
      "state": {}
     },
     "81a34385aafa4a798d74703a1bfd3799": {
      "model_module": "@jupyter-widgets/base",
      "model_module_version": "1.2.0",
      "model_name": "LayoutModel",
      "state": {}
     },
     "84b3b336573040bea406513ff40ff492": {
      "model_module": "@jupyter-widgets/base",
      "model_module_version": "1.2.0",
      "model_name": "LayoutModel",
      "state": {}
     },
     "90ab9753abfe4480b44cae3fdd71e8fa": {
      "model_module": "@jupyter-widgets/base",
      "model_module_version": "1.2.0",
      "model_name": "LayoutModel",
      "state": {}
     },
     "a7dd6ed3e6ee4c549a27ed944b575205": {
      "model_module": "@jupyter-widgets/base",
      "model_module_version": "1.2.0",
      "model_name": "LayoutModel",
      "state": {}
     },
     "ad2fe6afb33b4259a177b1e00bbe6203": {
      "model_module": "@jupyter-widgets/controls",
      "model_module_version": "1.5.0",
      "model_name": "IntSliderModel",
      "state": {
       "description": "s",
       "layout": "IPY_MODEL_f32bfb9b09484c4aa8dda5732a5f38a5",
       "max": 99,
       "style": "IPY_MODEL_f6f6492043a444e5a413accba1439cf9",
       "value": 76
      }
     },
     "bb312b778a284a9d804815622a406f42": {
      "model_module": "@jupyter-widgets/output",
      "model_module_version": "1.0.0",
      "model_name": "OutputModel",
      "state": {
       "layout": "IPY_MODEL_84b3b336573040bea406513ff40ff492",
       "outputs": [
        {
         "name": "stdout",
         "output_type": "stream",
         "text": "1011|1|10000000 \n    |d|  →  ? | ?  (Unspecified)\n"
        }
       ]
      }
     },
     "c58105b9501342139ac33b6882b1f3bc": {
      "model_module": "@jupyter-widgets/controls",
      "model_module_version": "1.5.0",
      "model_name": "VBoxModel",
      "state": {
       "_dom_classes": [
        "widget-interact"
       ],
       "children": [
        "IPY_MODEL_ad2fe6afb33b4259a177b1e00bbe6203",
        "IPY_MODEL_bb312b778a284a9d804815622a406f42"
       ],
       "layout": "IPY_MODEL_71789e9729df4134854e97021ca01d81"
      }
     },
     "d621901c49904d3bb3576e2b7e89bfd8": {
      "model_module": "@jupyter-widgets/controls",
      "model_module_version": "1.5.0",
      "model_name": "VBoxModel",
      "state": {
       "_dom_classes": [
        "widget-interact"
       ],
       "children": [
        "IPY_MODEL_526e6aa89ac34ee2bd5702a48f0131b7",
        "IPY_MODEL_651e511e442246b08d290c3559cdfb71"
       ],
       "layout": "IPY_MODEL_20bd254e8b414ea2b950478f0ccda21b"
      }
     },
     "e9faab83d65744e091ac673375106c56": {
      "model_module": "@jupyter-widgets/controls",
      "model_module_version": "1.5.0",
      "model_name": "VBoxModel",
      "state": {
       "_dom_classes": [
        "widget-interact"
       ],
       "children": [
        "IPY_MODEL_67b2f52121054f6894b4df189be60a80",
        "IPY_MODEL_ea29240ac97d4cbf8c9e6ce397cb0aea"
       ],
       "layout": "IPY_MODEL_81a34385aafa4a798d74703a1bfd3799"
      }
     },
     "ea29240ac97d4cbf8c9e6ce397cb0aea": {
      "model_module": "@jupyter-widgets/output",
      "model_module_version": "1.0.0",
      "model_name": "OutputModel",
      "state": {
       "layout": "IPY_MODEL_0b004970aaa34452aad5d3169c73a9aa",
       "outputs": [
        {
         "name": "stdout",
         "output_type": "stream",
         "text": "                                            \u001b[37;2m374\u001b[0m\nəə0 0 1 0 1 1 0 1 1 1 0 1 1 1 1 0 1 1 1 1 1 \u001b[47m\u001b[30;1m0\u001b[0m 1 1 1 1 1 1\n                                            \u001b[30;1mf\u001b[0m\u001b[37;2m  →  R,R | f  (Scan right along written F squares...)\u001b[0m\n"
        }
       ]
      }
     },
     "f0c58dae2b6a4c44a0e28e0cb6ba569e": {
      "model_module": "@jupyter-widgets/controls",
      "model_module_version": "1.5.0",
      "model_name": "SliderStyleModel",
      "state": {
       "description_width": ""
      }
     },
     "f32bfb9b09484c4aa8dda5732a5f38a5": {
      "model_module": "@jupyter-widgets/base",
      "model_module_version": "1.2.0",
      "model_name": "LayoutModel",
      "state": {}
     },
     "f3779309949942a4a5bc870a2c6e3324": {
      "model_module": "@jupyter-widgets/controls",
      "model_module_version": "1.5.0",
      "model_name": "VBoxModel",
      "state": {
       "_dom_classes": [
        "widget-interact"
       ],
       "children": [
        "IPY_MODEL_08d9e6f7e8004eeaa52eabe7dba7d6e2",
        "IPY_MODEL_2eba840ecbdc4282ac69bee0a86103f8"
       ],
       "layout": "IPY_MODEL_6f9267b8f3ef4a4c9943c5a316dd3276"
      }
     },
     "f6f6492043a444e5a413accba1439cf9": {
      "model_module": "@jupyter-widgets/controls",
      "model_module_version": "1.5.0",
      "model_name": "SliderStyleModel",
      "state": {
       "description_width": ""
      }
     }
    },
    "version_major": 2,
    "version_minor": 0
   }
  }
 },
 "nbformat": 4,
 "nbformat_minor": 4
}
