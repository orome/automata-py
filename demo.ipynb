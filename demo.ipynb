{
 "cells": [
  {
   "cell_type": "code",
   "execution_count": 1,
   "metadata": {},
   "outputs": [],
   "source": [
    "#!pip install -U ipykernel ipython jupyter jupyterlab jupyterlab-git \n",
    "#!pip install -U ipywidgets\n",
    "from ipywidgets import interact, interactive, fixed, interact_manual\n",
    "import ipywidgets as widgets"
   ]
  },
  {
   "cell_type": "code",
   "execution_count": 2,
   "metadata": {},
   "outputs": [],
   "source": [
    "from machine import *"
   ]
  },
  {
   "cell_type": "code",
   "execution_count": 3,
   "metadata": {},
   "outputs": [],
   "source": [
    "# Alternating 1s and 0s with blanks (Petzold p. 81, Turing p. 233))\n",
    "alternate = {\n",
    "    'b':\n",
    "        {E: (['0', R], 'c')},\n",
    "    'c':\n",
    "        {E: Behavior([R], 'e')},\n",
    "    'e':\n",
    "        {E: (['1', R], 'f')},\n",
    "    'f':\n",
    "        {E: ([R], 'b')}\n",
    "}\n",
    "alternate_machine = TuringMachine('b', alternate)"
   ]
  },
  {
   "cell_type": "code",
   "execution_count": 4,
   "metadata": {},
   "outputs": [],
   "source": [
    "# Alternating 1s and 0s with blanks and allowing multiple operations (Petzold p. 84, Turing p. 234)\n",
    "alternate_compact = {\n",
    "    'b':\n",
    "        {E: (['0'], 'b'),\n",
    "         '0': ([R, R, '1'], 'b'),\n",
    "         '1': ([R, R, '0'], 'b')}\n",
    "}\n",
    "alternate_compact_machine = TuringMachine('b', alternate_compact)"
   ]
  },
  {
   "cell_type": "code",
   "execution_count": 5,
   "metadata": {},
   "outputs": [],
   "source": [
    "# Alternating 1s and 0s with blanks, in standard form (Petzold p. 139, Turing p. 241))\n",
    "alternate_standard = {\n",
    "    'b':\n",
    "        {E: (['0', R], 'c')},\n",
    "    'c':\n",
    "        {E: ([E, R], 'e')},\n",
    "    'e':\n",
    "        {E: (['1', R], 'f')},\n",
    "    'f':\n",
    "        {E: ([E, R], 'b')}\n",
    "}\n",
    "alternate_standard_machine = TuringMachine('b', alternate_standard)"
   ]
  },
  {
   "cell_type": "code",
   "execution_count": 6,
   "metadata": {},
   "outputs": [],
   "source": [
    "# Binary increment (https://turingmachine.io)\n",
    "increment = {\n",
    "    'r':\n",
    "        {E: ([L], 'c', \"Scanning complete: backup and enter c\"),\n",
    "         ('0', '1'): ([R], 'r', \"Scan to the rightmost digit...\")},\n",
    "    'c':\n",
    "        {(E, '0'): (['1', L], 'd', \"Done: complete carry and enter d\"),\n",
    "         '1': (['0', L], 'c', \"Carry...\")}\n",
    "}\n",
    "increment_machine = TuringMachine('r', increment, initial_tape='1011101111111')"
   ]
  },
  {
   "cell_type": "code",
   "execution_count": 7,
   "metadata": {},
   "outputs": [],
   "source": [
    "increasing = {\n",
    "    'b':\n",
    "        {E: (['ə', R, 'ə', R, '0', R, R, '0', L, L], 'o', \"Initialize\")},\n",
    "    'o':\n",
    "        {'1': ([R, 'x', L, L, L], 'o', \"Mark a block of consecutive 1s...\"),\n",
    "         '0': ([], 'q', \"Done marking 1s\")},\n",
    "    'q':\n",
    "        {('0', '1'): ([R, R], 'q', \"Scan right along written F squares...\"), \n",
    "         E: (['1', L], 'p', \"Write a 1 and move to the preceding E square\")},\n",
    "    'p':\n",
    "        {'x': ([E, R], 'q'),\n",
    "         'ə': ([R], 'f'),\n",
    "         E: ([L, L], 'p')},\n",
    "    'f':\n",
    "        {('0', '1'): ([R, R], 'f', \"Scan right along written F squares...\"), \n",
    "         E: (['0', L, L], 'o', \"Write a 0 and move to the preceding F square\")},\n",
    "}\n",
    "increasing_machine = TuringMachine('b', increasing, initial_tape=E)"
   ]
  },
  {
   "cell_type": "code",
   "execution_count": 8,
   "metadata": {},
   "outputs": [],
   "source": [
    "alt_steps = [step.display_text() for step in alternate_machine.steps(100)]"
   ]
  },
  {
   "cell_type": "code",
   "execution_count": 9,
   "metadata": {},
   "outputs": [
    {
     "data": {
      "application/vnd.jupyter.widget-view+json": {
       "model_id": "8a01e138eef6441baa75715378499024",
       "version_major": 2,
       "version_minor": 0
      },
      "text/plain": [
       "interactive(children=(IntSlider(value=0, description='s', max=99), Output()), _dom_classes=('widget-interact',…"
      ]
     },
     "metadata": {},
     "output_type": "display_data"
    }
   ],
   "source": [
    "@interact(s=(0,99,1))\n",
    "def show_alt_step(s=0):\n",
    "    print(alt_steps[s])\n",
    "    return"
   ]
  },
  {
   "cell_type": "code",
   "execution_count": 10,
   "metadata": {},
   "outputs": [],
   "source": [
    "add_steps = [step.display_text(show_comments=True, show_behavior=True) for step in increment_machine.steps(100)]"
   ]
  },
  {
   "cell_type": "code",
   "execution_count": 11,
   "metadata": {},
   "outputs": [
    {
     "data": {
      "application/vnd.jupyter.widget-view+json": {
       "model_id": "4c209730560a4aabb9d903f79459ef6a",
       "version_major": 2,
       "version_minor": 0
      },
      "text/plain": [
       "interactive(children=(IntSlider(value=0, description='s', max=99), Output()), _dom_classes=('widget-interact',…"
      ]
     },
     "metadata": {},
     "output_type": "display_data"
    }
   ],
   "source": [
    "@interact(s=(0,99,1))\n",
    "def show_add_step(s=0):\n",
    "    print(add_steps[s])\n",
    "    return"
   ]
  },
  {
   "cell_type": "code",
   "execution_count": 12,
   "metadata": {},
   "outputs": [],
   "source": [
    "inc_steps = [step.display_text(symbol_highlight=\"\\u001b[47m\\u001b[30;1m{}\\u001b[0m\",\n",
    "                               m_config_highlight=\"\\u001b[30;1m{}\\u001b[0m\", \n",
    "                               show_step=True, # step_pad=(5,'0'),\n",
    "                               annotations_highlight=\"\\u001b[37;2m{}\\u001b[0m\",\n",
    "                               show_comments=True, show_behavior=True) \n",
    "             for step in increasing_machine.steps(1000)]"
   ]
  },
  {
   "cell_type": "code",
   "execution_count": 13,
   "metadata": {},
   "outputs": [
    {
     "data": {
      "application/vnd.jupyter.widget-view+json": {
       "model_id": "5a25b1185f4d415f8ba4f56af64a9407",
       "version_major": 2,
       "version_minor": 0
      },
      "text/plain": [
       "interactive(children=(IntSlider(value=0, description='s', max=999), Output()), _dom_classes=('widget-interact'…"
      ]
     },
     "metadata": {},
     "output_type": "display_data"
    }
   ],
   "source": [
    "@interact(s=(0,999,1))\n",
    "def show_inc_step(s=0):\n",
    "    print(inc_steps[s])\n",
    "    return"
   ]
  },
  {
   "cell_type": "code",
   "execution_count": 14,
   "metadata": {},
   "outputs": [],
   "source": [
    "# https://stackoverflow.com/q/63163551/656912"
   ]
  },
  {
   "cell_type": "code",
   "execution_count": null,
   "metadata": {},
   "outputs": [],
   "source": [
    "increa"
   ]
  }
 ],
 "metadata": {
  "kernelspec": {
   "display_name": "automata (Python 3, venv)",
   "language": "python",
   "name": "automata_env"
  },
  "language_info": {
   "codemirror_mode": {
    "name": "ipython",
    "version": 3
   },
   "file_extension": ".py",
   "mimetype": "text/x-python",
   "name": "python",
   "nbconvert_exporter": "python",
   "pygments_lexer": "ipython3",
   "version": "3.9.5"
  },
  "widgets": {
   "application/vnd.jupyter.widget-state+json": {
    "state": {
     "21638be407f44bf6b092c7c73a65a98f": {
      "model_module": "@jupyter-widgets/controls",
      "model_module_version": "1.5.0",
      "model_name": "SliderStyleModel",
      "state": {
       "description_width": ""
      }
     },
     "22d2bb7f2001405583cbfd3ac9f053ff": {
      "model_module": "@jupyter-widgets/base",
      "model_module_version": "1.2.0",
      "model_name": "LayoutModel",
      "state": {}
     },
     "2d6bedb2054c46558fb1ca919b6aef11": {
      "model_module": "@jupyter-widgets/base",
      "model_module_version": "1.2.0",
      "model_name": "LayoutModel",
      "state": {}
     },
     "486422ead72f4d2d81d9291e1c99cd9c": {
      "model_module": "@jupyter-widgets/controls",
      "model_module_version": "1.5.0",
      "model_name": "IntSliderModel",
      "state": {
       "description": "s",
       "layout": "IPY_MODEL_8c6290ac0b42427bac923664d54cb9ca",
       "max": 99,
       "style": "IPY_MODEL_21638be407f44bf6b092c7c73a65a98f"
      }
     },
     "4c209730560a4aabb9d903f79459ef6a": {
      "model_module": "@jupyter-widgets/controls",
      "model_module_version": "1.5.0",
      "model_name": "VBoxModel",
      "state": {
       "_dom_classes": [
        "widget-interact"
       ],
       "children": [
        "IPY_MODEL_486422ead72f4d2d81d9291e1c99cd9c",
        "IPY_MODEL_ab102f6a09404d09bb3a9f419a02ca95"
       ],
       "layout": "IPY_MODEL_4cad9fdecf5e437591de39f43268c911"
      }
     },
     "4cad9fdecf5e437591de39f43268c911": {
      "model_module": "@jupyter-widgets/base",
      "model_module_version": "1.2.0",
      "model_name": "LayoutModel",
      "state": {}
     },
     "4f88003a4bb748a5bfacc3c7bcfe2697": {
      "model_module": "@jupyter-widgets/base",
      "model_module_version": "1.2.0",
      "model_name": "LayoutModel",
      "state": {}
     },
     "5a25b1185f4d415f8ba4f56af64a9407": {
      "model_module": "@jupyter-widgets/controls",
      "model_module_version": "1.5.0",
      "model_name": "VBoxModel",
      "state": {
       "_dom_classes": [
        "widget-interact"
       ],
       "children": [
        "IPY_MODEL_a8d479fc595a4e04b90e5bcc5f255370",
        "IPY_MODEL_f7cb011586224e0cb6c5b69893372673"
       ],
       "layout": "IPY_MODEL_ad8e8ddbe4774681a3ba16736b067191"
      }
     },
     "6354b875b4f247aea43cbd8df6ed04b1": {
      "model_module": "@jupyter-widgets/base",
      "model_module_version": "1.2.0",
      "model_name": "LayoutModel",
      "state": {}
     },
     "6ba3e2417ed749c3ae5a0b98bacbca28": {
      "model_module": "@jupyter-widgets/controls",
      "model_module_version": "1.5.0",
      "model_name": "IntSliderModel",
      "state": {
       "description": "s",
       "layout": "IPY_MODEL_2d6bedb2054c46558fb1ca919b6aef11",
       "max": 99,
       "style": "IPY_MODEL_def32b3b1f7248fc8d11182dedce9cd4"
      }
     },
     "8a01e138eef6441baa75715378499024": {
      "model_module": "@jupyter-widgets/controls",
      "model_module_version": "1.5.0",
      "model_name": "VBoxModel",
      "state": {
       "_dom_classes": [
        "widget-interact"
       ],
       "children": [
        "IPY_MODEL_6ba3e2417ed749c3ae5a0b98bacbca28",
        "IPY_MODEL_9fab5dfc86cf47ff949d221097109a71"
       ],
       "layout": "IPY_MODEL_4f88003a4bb748a5bfacc3c7bcfe2697"
      }
     },
     "8c6290ac0b42427bac923664d54cb9ca": {
      "model_module": "@jupyter-widgets/base",
      "model_module_version": "1.2.0",
      "model_name": "LayoutModel",
      "state": {}
     },
     "98419ee05e6d4021a4ce07310a4e965f": {
      "model_module": "@jupyter-widgets/controls",
      "model_module_version": "1.5.0",
      "model_name": "SliderStyleModel",
      "state": {
       "description_width": ""
      }
     },
     "9fab5dfc86cf47ff949d221097109a71": {
      "model_module": "@jupyter-widgets/output",
      "model_module_version": "1.0.0",
      "model_name": "OutputModel",
      "state": {
       "layout": "IPY_MODEL_a58d0d2d3e164f5eb2caa9b29193954e",
       "outputs": [
        {
         "name": "stdout",
         "output_type": "stream",
         "text": "| |\n|b|\n"
        }
       ]
      }
     },
     "a58d0d2d3e164f5eb2caa9b29193954e": {
      "model_module": "@jupyter-widgets/base",
      "model_module_version": "1.2.0",
      "model_name": "LayoutModel",
      "state": {}
     },
     "a8d479fc595a4e04b90e5bcc5f255370": {
      "model_module": "@jupyter-widgets/controls",
      "model_module_version": "1.5.0",
      "model_name": "IntSliderModel",
      "state": {
       "description": "s",
       "layout": "IPY_MODEL_6354b875b4f247aea43cbd8df6ed04b1",
       "max": 999,
       "style": "IPY_MODEL_98419ee05e6d4021a4ce07310a4e965f"
      }
     },
     "ab102f6a09404d09bb3a9f419a02ca95": {
      "model_module": "@jupyter-widgets/output",
      "model_module_version": "1.0.0",
      "model_name": "OutputModel",
      "state": {
       "layout": "IPY_MODEL_22d2bb7f2001405583cbfd3ac9f053ff",
       "outputs": [
        {
         "name": "stdout",
         "output_type": "stream",
         "text": "|1|011101111111\n|r|  →  R | r  (Scan to the rightmost digit...)\n"
        }
       ]
      }
     },
     "ad8e8ddbe4774681a3ba16736b067191": {
      "model_module": "@jupyter-widgets/base",
      "model_module_version": "1.2.0",
      "model_name": "LayoutModel",
      "state": {}
     },
     "def32b3b1f7248fc8d11182dedce9cd4": {
      "model_module": "@jupyter-widgets/controls",
      "model_module_version": "1.5.0",
      "model_name": "SliderStyleModel",
      "state": {
       "description_width": ""
      }
     },
     "eaa649790372463690e7f26780c31742": {
      "model_module": "@jupyter-widgets/base",
      "model_module_version": "1.2.0",
      "model_name": "LayoutModel",
      "state": {}
     },
     "f7cb011586224e0cb6c5b69893372673": {
      "model_module": "@jupyter-widgets/output",
      "model_module_version": "1.0.0",
      "model_name": "OutputModel",
      "state": {
       "layout": "IPY_MODEL_eaa649790372463690e7f26780c31742",
       "outputs": [
        {
         "name": "stdout",
         "output_type": "stream",
         "text": "\u001b[37;2m0\u001b[0m\n\u001b[47m\u001b[30;1m \u001b[0m\n\u001b[30;1mb\u001b[0m\u001b[37;2m  →  \u001b[4mə\u001b[24m,R,\u001b[4mə\u001b[24m,R,\u001b[4m0\u001b[24m,R,R,\u001b[4m0\u001b[24m,L,L | o  (Initialize)\u001b[0m\n"
        }
       ]
      }
     }
    },
    "version_major": 2,
    "version_minor": 0
   }
  }
 },
 "nbformat": 4,
 "nbformat_minor": 4
}
