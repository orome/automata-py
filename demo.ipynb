{
 "cells": [
  {
   "cell_type": "code",
   "execution_count": null,
   "metadata": {
    "ExecuteTime": {
     "end_time": "2023-10-05T18:05:18.484994Z",
     "start_time": "2023-10-05T18:05:17.893151Z"
    }
   },
   "outputs": [],
   "source": [
    "from ipywidgets import interact, widgets #, interactive, fixed, interact_manual"
   ]
  },
  {
   "cell_type": "code",
   "execution_count": null,
   "metadata": {
    "ExecuteTime": {
     "end_time": "2023-10-05T18:05:20.789102Z",
     "start_time": "2023-10-05T18:05:20.334725Z"
    },
    "collapsed": false,
    "jupyter": {
     "outputs_hidden": false
    }
   },
   "outputs": [],
   "source": [
    "from automata import *"
   ]
  },
  {
   "cell_type": "code",
   "execution_count": null,
   "metadata": {
    "ExecuteTime": {
     "end_time": "2023-10-05T18:05:21.696669Z",
     "start_time": "2023-10-05T18:05:21.675437Z"
    }
   },
   "outputs": [],
   "source": [
    "Rule(255).encoding"
   ]
  },
  {
   "cell_type": "code",
   "execution_count": null,
   "metadata": {
    "ExecuteTime": {
     "end_time": "2023-10-05T18:05:25.000902Z",
     "start_time": "2023-10-05T18:05:24.995045Z"
    }
   },
   "outputs": [],
   "source": [
    "Rule(1).encoding"
   ]
  },
  {
   "cell_type": "code",
   "execution_count": null,
   "metadata": {
    "ExecuteTime": {
     "end_time": "2023-10-05T18:05:25.930737Z",
     "start_time": "2023-10-05T18:05:25.916622Z"
    }
   },
   "outputs": [],
   "source": [
    "Rule._decode('00011110', base=2)"
   ]
  },
  {
   "cell_type": "code",
   "execution_count": null,
   "metadata": {
    "ExecuteTime": {
     "end_time": "2023-10-05T18:05:26.865996Z",
     "start_time": "2023-10-05T18:05:26.860760Z"
    }
   },
   "outputs": [],
   "source": [
    "Rule(30).n_rules"
   ]
  },
  {
   "cell_type": "code",
   "execution_count": null,
   "metadata": {
    "ExecuteTime": {
     "end_time": "2023-10-05T18:05:27.353416Z",
     "start_time": "2023-10-05T18:05:27.337068Z"
    }
   },
   "outputs": [],
   "source": [
    "Rule(30).pattern_to_output"
   ]
  },
  {
   "cell_type": "code",
   "execution_count": null,
   "metadata": {
    "ExecuteTime": {
     "end_time": "2023-10-05T18:05:27.886285Z",
     "start_time": "2023-10-05T18:05:27.872421Z"
    }
   },
   "outputs": [],
   "source": [
    "Rule(30).pattern_to_output.keys()"
   ]
  },
  {
   "cell_type": "code",
   "execution_count": null,
   "metadata": {
    "ExecuteTime": {
     "end_time": "2023-10-05T18:05:28.314595Z",
     "start_time": "2023-10-05T18:05:28.309585Z"
    }
   },
   "outputs": [],
   "source": [
    "Rule(30, base=3).n_rules"
   ]
  },
  {
   "cell_type": "code",
   "execution_count": null,
   "metadata": {
    "ExecuteTime": {
     "end_time": "2023-10-05T18:05:29.267868Z",
     "start_time": "2023-10-05T18:05:29.254858Z"
    }
   },
   "outputs": [],
   "source": [
    "Rule(7625597484987-1, base=3).pattern_to_output"
   ]
  },
  {
   "cell_type": "code",
   "execution_count": null,
   "metadata": {
    "ExecuteTime": {
     "end_time": "2023-10-05T18:05:29.887162Z",
     "start_time": "2023-10-05T18:05:29.833262Z"
    }
   },
   "outputs": [],
   "source": [
    "Rule(Rule._decode('11010', 2)).display(Rule.DisplayParams(rows=1))"
   ]
  },
  {
   "cell_type": "code",
   "execution_count": null,
   "metadata": {},
   "outputs": [],
   "source": [
    "Rule(30,5).display(Rule.DisplayParams(rows=3))"
   ]
  },
  {
   "cell_type": "code",
   "execution_count": null,
   "metadata": {},
   "outputs": [],
   "source": [
    "@interact(b=(0,6,1), rows=(1,6,1))\n",
    "def show_rule(b=2, rows=1):\n",
    "    Rule(30,b).display(Rule.DisplayParams(fig_width=10, rows=rows))\n",
    "    return"
   ]
  },
  {
   "cell_type": "code",
   "execution_count": null,
   "metadata": {
    "ExecuteTime": {
     "end_time": "2023-10-05T18:05:31.233652Z",
     "start_time": "2023-10-05T18:05:31.168422Z"
    }
   },
   "outputs": [],
   "source": [
    "@interact(r=(0,255,1))\n",
    "def show_rule(r=0):\n",
    "    Rule(r).display(Rule.DisplayParams(fig_width=10))\n",
    "    return"
   ]
  },
  {
   "cell_type": "code",
   "execution_count": null,
   "metadata": {
    "ExecuteTime": {
     "end_time": "2023-10-05T18:05:33.645965Z",
     "start_time": "2023-10-05T18:05:33.495285Z"
    }
   },
   "outputs": [],
   "source": [
    "CellularAutomata(30, '1', frame_steps=50).rule.display(Rule.DisplayParams(fig_width=10))\n",
    "CellularAutomata(255, '1', frame_steps=90).rule.display(Rule.DisplayParams(fig_width=10))  \n",
    "CellularAutomata(0, '1', frame_steps=90).rule.display (Rule.DisplayParams(fig_width=10, grid_color='green', grid_thickness=1.0))\n",
    "CellularAutomata(1, '1', frame_steps=90).rule.display(Rule.DisplayParams(fig_width=10))"
   ]
  },
  {
   "cell_type": "code",
   "execution_count": null,
   "metadata": {
    "ExecuteTime": {
     "end_time": "2023-10-05T18:05:34.679674Z",
     "start_time": "2023-10-05T18:05:34.564508Z"
    }
   },
   "outputs": [],
   "source": [
    "CellularAutomata(30, '1', frame_steps=50).display(\n",
    "    CellularAutomata.DisplayParams(highlights=[HighlightBounds(5)]))"
   ]
  },
  {
   "cell_type": "code",
   "execution_count": null,
   "metadata": {
    "ExecuteTime": {
     "end_time": "2023-10-05T18:05:35.358529Z",
     "start_time": "2023-10-05T18:05:35.336876Z"
    },
    "collapsed": false,
    "jupyter": {
     "outputs_hidden": false
    }
   },
   "outputs": [],
   "source": [
    "CellularAutomata(30, '1', frame_steps=50).display(\n",
    "    CellularAutomata.DisplayParams(highlights=[HighlightBounds(5)], slice_spec=SliceSpec(4,3)))"
   ]
  },
  {
   "cell_type": "code",
   "execution_count": null,
   "metadata": {
    "ExecuteTime": {
     "end_time": "2023-09-19T19:36:01.949136Z",
     "start_time": "2023-09-19T19:36:01.903509Z"
    },
    "collapsed": false,
    "jupyter": {
     "outputs_hidden": false
    }
   },
   "outputs": [],
   "source": [
    "CellularAutomata(30, '1', frame_steps=50).display(\n",
    "    CellularAutomata.DisplayParams(\n",
    "        highlights=[HighlightBounds(5)], \n",
    "        slice_spec=SliceSpec(20,)))"
   ]
  },
  {
   "cell_type": "code",
   "execution_count": null,
   "metadata": {
    "ExecuteTime": {
     "end_time": "2023-09-19T19:36:02.013471Z",
     "start_time": "2023-09-19T19:36:01.919165Z"
    }
   },
   "outputs": [],
   "source": [
    "CellularAutomata(30, '1', frame_steps=50).display(\n",
    "    CellularAutomata.DisplayParams(highlights=[HighlightBounds(offset=6)]))"
   ]
  },
  {
   "cell_type": "code",
   "execution_count": null,
   "metadata": {
    "ExecuteTime": {
     "end_time": "2023-09-19T19:36:02.116797Z",
     "start_time": "2023-09-19T19:36:02.020740Z"
    },
    "collapsed": false,
    "jupyter": {
     "outputs_hidden": false
    }
   },
   "outputs": [],
   "source": [
    "CellularAutomata(30, '1', frame_steps=50).display(\n",
    "    CellularAutomata.DisplayParams(\n",
    "        highlights=[HighlightBounds(width=20, steps=20, start_step=20, offset=20),\n",
    "                    HighlightBounds(width=35, steps=20, start_step=10, offset=-5)], \n",
    "        cell_colors=['white','blue']))"
   ]
  },
  {
   "cell_type": "code",
   "execution_count": null,
   "metadata": {
    "ExecuteTime": {
     "end_time": "2023-09-19T19:36:02.649352Z",
     "start_time": "2023-09-19T19:36:02.103314Z"
    },
    "collapsed": false,
    "jupyter": {
     "outputs_hidden": false
    }
   },
   "outputs": [],
   "source": [
    "CellularAutomata(30, '1', frame_steps=1000, frame_width=500).display()"
   ]
  },
  {
   "cell_type": "code",
   "execution_count": null,
   "metadata": {
    "ExecuteTime": {
     "end_time": "2023-09-19T19:36:03.160121Z",
     "start_time": "2023-09-19T19:36:02.649966Z"
    },
    "collapsed": false,
    "jupyter": {
     "outputs_hidden": false
    }
   },
   "outputs": [],
   "source": [
    "CellularAutomata(90, '1', frame_steps=1000, frame_width=500).display()"
   ]
  },
  {
   "cell_type": "code",
   "execution_count": null,
   "metadata": {
    "ExecuteTime": {
     "end_time": "2023-09-19T19:36:03.469757Z",
     "start_time": "2023-09-19T19:36:03.166843Z"
    },
    "collapsed": false,
    "jupyter": {
     "outputs_hidden": false
    }
   },
   "outputs": [],
   "source": [
    "CellularAutomata(30, '1', frame_steps=12, frame_width=15).display(\n",
    "    CellularAutomata.DisplayParams(\n",
    "        fig_width=8,\n",
    "        highlights=[HighlightBounds(width=5, steps=5, start_step=6, offset=3)],\n",
    "        grid_color='red', grid_thickness=1.0))"
   ]
  },
  {
   "cell_type": "code",
   "execution_count": null,
   "metadata": {
    "ExecuteTime": {
     "end_time": "2023-09-19T19:36:03.930339Z",
     "start_time": "2023-09-19T19:36:03.338262Z"
    },
    "collapsed": false,
    "jupyter": {
     "outputs_hidden": false
    },
    "scrolled": true
   },
   "outputs": [],
   "source": [
    "CellularAutomata(30, '1', frame_steps=150, frame_width=100).display(CellularAutomata.DisplayParams(\n",
    "    fig_width=12,  \n",
    "    highlights=[HighlightBounds(width=5, steps=25, start_step=30, offset=-25), \n",
    "                HighlightBounds(width=5, steps=25, start_step=30, offset=25),\n",
    "                HighlightBounds(width=5, steps=25)],\n",
    "    grid_color='white', grid_thickness=0.5, \n",
    "    cell_colors=['black', 'yellow'],\n",
    "    highlight_mask=0.1))"
   ]
  },
  {
   "cell_type": "code",
   "execution_count": null,
   "metadata": {
    "ExecuteTime": {
     "end_time": "2023-09-19T19:36:04.207091Z",
     "start_time": "2023-09-19T19:36:03.941096Z"
    },
    "collapsed": false,
    "jupyter": {
     "outputs_hidden": false
    }
   },
   "outputs": [],
   "source": [
    "CellularAutomata(30, '1', frame_steps=12, frame_width=15).display(\n",
    "    CellularAutomata.DisplayParams(\n",
    "        highlights=[HighlightBounds(steps=7, start_step=0, offset=3, width=5)]))"
   ]
  },
  {
   "cell_type": "code",
   "execution_count": null,
   "metadata": {
    "ExecuteTime": {
     "end_time": "2023-09-19T19:36:04.250144Z",
     "start_time": "2023-09-19T19:36:04.101539Z"
    }
   },
   "outputs": [],
   "source": [
    "CellularAutomata(30, '10000000000', frame_steps=12, frame_width=15, boundary_condition='periodic').display(\n",
    "    CellularAutomata.DisplayParams(\n",
    "        fig_width=8, check_highlight_bounds=False, \n",
    "        highlights=[HighlightBounds(steps=5, start_step=0, offset=-6, width=5)],\n",
    "        grid_color='red', grid_thickness=1.0))"
   ]
  },
  {
   "cell_type": "code",
   "execution_count": null,
   "metadata": {
    "ExecuteTime": {
     "end_time": "2023-09-19T19:36:04.418059Z",
     "start_time": "2023-09-19T19:36:04.238798Z"
    }
   },
   "outputs": [],
   "source": [
    "CellularAutomata(30, '1', frame_steps=12, frame_width=15).display(CellularAutomata.DisplayParams(\n",
    "    check_highlight_bounds=False, \n",
    "    highlights=[HighlightBounds(steps=5, start_step=10, offset=-5, width=5)]))"
   ]
  },
  {
   "cell_type": "code",
   "execution_count": null,
   "metadata": {
    "ExecuteTime": {
     "end_time": "2023-09-19T19:36:04.418197Z",
     "start_time": "2023-09-19T19:36:04.399061Z"
    },
    "collapsed": false,
    "jupyter": {
     "outputs_hidden": false
    }
   },
   "outputs": [],
   "source": [
    "step_eg = CellularAutomata(30, '1', frame_steps=50)"
   ]
  },
  {
   "cell_type": "code",
   "execution_count": null,
   "metadata": {
    "ExecuteTime": {
     "end_time": "2023-09-19T19:36:04.621019Z",
     "start_time": "2023-09-19T19:36:04.402837Z"
    },
    "collapsed": false,
    "jupyter": {
     "outputs_hidden": false
    }
   },
   "outputs": [],
   "source": [
    "@interact(s=(0,step_eg.frame_steps-1,1))\n",
    "def show_alt_step(s=0):\n",
    "    step_eg.display(CellularAutomata.DisplayParams(\n",
    "        slice_spec=SliceSpec(s,), \n",
    "        cell_colors=['white', 'blue'], \n",
    "        grid_color='black', grid_thickness=0.25))\n",
    "    return"
   ]
  },
  {
   "cell_type": "code",
   "execution_count": null,
   "metadata": {
    "ExecuteTime": {
     "end_time": "2023-09-19T19:36:04.698199Z",
     "start_time": "2023-09-19T19:36:04.614275Z"
    },
    "collapsed": false,
    "jupyter": {
     "outputs_hidden": false
    }
   },
   "outputs": [],
   "source": [
    "lattice_eg = CellularAutomata(30, '1', frame_steps=12, frame_width=15)\n",
    "slice_eg = SliceSpec(1,2)\n",
    "print(lattice_eg.lattice(slice_eg))\n",
    "lattice_eg.display(CellularAutomata.DisplayParams(\n",
    "    slice_spec=slice_eg, fig_width=4, grid_color='black', grid_thickness=0.5))"
   ]
  },
  {
   "cell_type": "code",
   "execution_count": null,
   "metadata": {
    "ExecuteTime": {
     "end_time": "2023-09-19T19:36:04.784451Z",
     "start_time": "2023-09-19T19:36:04.701094Z"
    }
   },
   "outputs": [],
   "source": [
    "@interact(r=(0,Rule(0, base=3).n_rules-1,1))\n",
    "def show_rule(r=0):\n",
    "    Rule(r, base=3).display(Rule.DisplayParams(fig_width=10, rows=3))\n",
    "    return"
   ]
  },
  {
   "cell_type": "code",
   "execution_count": null,
   "metadata": {
    "ExecuteTime": {
     "end_time": "2023-09-19T19:36:04.791671Z",
     "start_time": "2023-09-19T19:36:04.785816Z"
    }
   },
   "outputs": [],
   "source": [
    "print(CellularAutomata(20, '22011', base=3, frame_width=20, frame_steps=4).lattice(SliceSpec(None,None)))"
   ]
  },
  {
   "cell_type": "code",
   "execution_count": null,
   "metadata": {},
   "outputs": [],
   "source": [
    "@interact(r=(0,200000,1))\n",
    "def show_lattice(r=0, b=2):\n",
    "    print(CellularAutomata(r, '0', base=20, frame_width=20, frame_steps=4).lattice())"
   ]
  },
  {
   "cell_type": "code",
   "execution_count": null,
   "metadata": {
    "ExecuteTime": {
     "end_time": "2023-09-19T19:36:04.854290Z",
     "start_time": "2023-09-19T19:36:04.796545Z"
    }
   },
   "outputs": [],
   "source": [
    "CellularAutomata(20, '22011', base=3, frame_width=31, frame_steps=4).display(\n",
    "    CellularAutomata.DisplayParams(\n",
    "        cell_colors=['gray','blue','green'],\n",
    "        highlights=[HighlightBounds(steps=2, start_step=1, offset=-2, width=5)]))"
   ]
  },
  {
   "cell_type": "code",
   "execution_count": null,
   "metadata": {
    "ExecuteTime": {
     "end_time": "2023-09-19T19:36:04.863774Z",
     "start_time": "2023-09-19T19:36:04.853117Z"
    }
   },
   "outputs": [],
   "source": [
    "print(CellularAutomata(5, '2', base=3, frame_width=20, frame_steps=4).lattice())"
   ]
  },
  {
   "cell_type": "code",
   "execution_count": null,
   "metadata": {},
   "outputs": [],
   "source": [
    "[str(c) for c in np.linspace(1, 0, 3)]"
   ]
  },
  {
   "cell_type": "code",
   "execution_count": null,
   "metadata": {
    "ExecuteTime": {
     "end_time": "2023-09-19T19:36:05.029150Z",
     "start_time": "2023-09-19T19:36:04.874930Z"
    }
   },
   "outputs": [],
   "source": [
    "CellularAutomata(29402302, '2', base=3, frame_steps=12, frame_width=101).display()"
   ]
  },
  {
   "cell_type": "code",
   "execution_count": null,
   "metadata": {
    "ExecuteTime": {
     "end_time": "2023-09-19T19:36:05.036124Z",
     "start_time": "2023-09-19T19:36:05.028520Z"
    }
   },
   "outputs": [],
   "source": [
    "print(CellularAutomata(1, 'B', base=16, frame_width=20, frame_steps=4).lattice())"
   ]
  },
  {
   "cell_type": "code",
   "execution_count": null,
   "metadata": {
    "ExecuteTime": {
     "end_time": "2023-09-19T19:36:05.448423Z",
     "start_time": "2023-09-19T19:36:05.036669Z"
    }
   },
   "outputs": [],
   "source": [
    "eg_frame_steps=80\n",
    "eg_frame_width=151\n",
    "eg_fig_width=12\n",
    "\n",
    "# Some controls by hand as example, more in utilities (see following)\n",
    "\n",
    "r_slider = widgets.IntSlider(min=0, max=Rule(0, base=2).n_rules-1, step=1, value=90, description='Rule')\n",
    "b_slider = widgets.IntSlider(min=2, max=4, step=1, value=2, description='Base')\n",
    "# Adjust the max r to correspond to the base, without changing the current r (unless it's too big)\n",
    "def update_r_max(*args):\n",
    "    r_slider.max = Rule(0, base=b_slider.value).n_rules - 1\n",
    "b_slider.observe(update_r_max, names='value')\n",
    "\n",
    "rule_rows_slider = widgets.IntSlider(min=0, max=4, step=1, value=Rule(0, base=2).best_rows(), description='Rule rows')\n",
    "def update_rule_rows_default(*args):\n",
    "    rule_rows_slider.value = Rule(0, base=b_slider.value).best_rows()\n",
    "b_slider.observe(update_rule_rows_default, names='value')\n",
    "update_rule_rows_default()\n",
    "\n",
    "use_highlight_checkbox = widgets.Checkbox(value=False, description='Focus Highlight')\n",
    "h_start_slider = widgets.IntSlider(min=0, max=eg_frame_steps, step=1, value=0, description='Start')\n",
    "h_width_slider = widgets.IntSlider(min=1, max=eg_frame_width, step=1, value=21, description='Width')\n",
    "h_offset_slider = widgets.IntSlider(min=-eg_frame_width//2, max=eg_frame_width//2, step=1, value=0, description='Offset')\n",
    "h_steps_slider = widgets.IntSlider(min=1, max=eg_frame_steps, step=1, value=20, description='Steps')\n",
    "# Enable/disable h_start and h_width based on the checkbox\n",
    "def update_highlight_controls(change=None):\n",
    "    new_value = use_highlight_checkbox.value if change is None else change.new\n",
    "    h_start_slider.disabled = not new_value\n",
    "    h_width_slider.disabled = not new_value\n",
    "    h_offset_slider.disabled = not new_value\n",
    "    h_steps_slider.disabled = not new_value\n",
    "use_highlight_checkbox.observe(update_highlight_controls, names='value')\n",
    "update_highlight_controls()\n",
    "\n",
    "grid_color_picker = widgets.ColorPicker(concise=True, value='white', disabled=False, description='Grid color')\n",
    "grid_thickness_slider = widgets.FloatSlider(min=0, max=2, step=0.05, value=0.2, description='Grid thickness')\n",
    "\n",
    "cell_color_pickers={}\n",
    "cell_color_pickers[0] = widgets.ColorPicker(concise=True, value='black', disabled=False, description='0')\n",
    "cell_color_pickers[1] = widgets.ColorPicker(concise=True, value='yellow', disabled=False, description='1')\n",
    "cell_color_pickers[2] = widgets.ColorPicker(concise=True, value='red', disabled=False, description='2')\n",
    "cell_color_pickers[3] = widgets.ColorPicker(concise=True, value='green', disabled=False, description='3')\n",
    "# Enable/disable cell color pickers based on current value of base\n",
    "def update_grid_color_controls(*args):\n",
    "    for digit in cell_color_pickers.keys():\n",
    "        if digit > b_slider.value - 1:\n",
    "            cell_color_pickers[digit].layout.display = 'none'\n",
    "        else:\n",
    "            cell_color_pickers[digit].layout.display = 'flex'  # or 'block' or 'inline' based on your layout needs\n",
    "\n",
    "b_slider.observe(update_grid_color_controls, names='value')\n",
    "update_grid_color_controls()\n",
    "\n",
    "\n",
    "@interact(rule=r_slider, base=b_slider, \n",
    "          use_highlight=use_highlight_checkbox, \n",
    "          h_start=h_start_slider, h_width=h_width_slider, h_offset=h_offset_slider, h_steps=h_steps_slider,\n",
    "          cell_color_0=cell_color_pickers[0], cell_color_1=cell_color_pickers[1], cell_color_2=cell_color_pickers[2], cell_color_3=cell_color_pickers[3],\n",
    "          grid_color=grid_color_picker, grid_thickness=grid_thickness_slider,\n",
    "          rule_rows=rule_rows_slider)\n",
    "def display_automaton(rule=90, base=2,\n",
    "                      use_highlight=False, h_start=0, h_width=21, h_offset=0, h_steps=20,\n",
    "                      grid_color='white', grid_thickness=0.2,\n",
    "                      cell_color_0='black', cell_color_1='yellow', cell_color_2='red', cell_color_3='green',\n",
    "                      rule_rows=1):\n",
    "    if not use_highlight:\n",
    "        highlights = [HighlightBounds()]\n",
    "    else:\n",
    "        highlights = [HighlightBounds(steps=h_steps, start_step=h_start, offset=h_offset, width=h_width)]\n",
    "\n",
    "    colors=[cell_color_0, cell_color_1, cell_color_2, cell_color_3]\n",
    "   \n",
    "    CellularAutomata(rule, '1', base=base,\n",
    "                     frame_steps=eg_frame_steps, frame_width=eg_frame_width).display(\n",
    "        CellularAutomata.DisplayParams( # slice_spec=SliceSpec(20,20),\n",
    "            fig_width=eg_fig_width,\n",
    "            grid_color=grid_color, grid_thickness=grid_thickness,\n",
    "            cell_colors=colors,\n",
    "            highlights=highlights,\n",
    "            check_highlight_bounds=False),\n",
    "        rule_display_params=Rule.DisplayParams(cell_colors=colors, rows=rule_rows) if rule_rows > 0 else None,\n",
    "        show_rule=rule_rows > 0\n",
    "    )\n",
    "    return"
   ]
  },
  {
   "cell_type": "code",
   "execution_count": null,
   "metadata": {},
   "outputs": [],
   "source": [
    "from automata import utilities\n",
    "\n",
    "# # Constants (optional)\n",
    "EG_FRAME_STEPS = 80\n",
    "EG_FRAME_WIDTH = 151\n",
    "\n",
    "controls = utilities.get_controls(\n",
    "    ['rule', 'base',\n",
    "     #'initial_conditions',\n",
    "     #'slice_bounds',\n",
    "     'use_highlight', 'h_start', 'h_width', 'h_offset', 'h_steps',\n",
    "     'grid_color', 'grid_thickness',\n",
    "     'cell_color_0', 'cell_color_1', 'cell_color_2', 'cell_color_3',\n",
    "     'rule_rows'],\n",
    "    frame_steps=EG_FRAME_STEPS, frame_width=EG_FRAME_WIDTH)\n",
    "\n",
    "@interact(**controls)\n",
    "def interactive_display(**kwargs):\n",
    "    utilities.display_automaton(**kwargs, \n",
    "                                frame_steps=EG_FRAME_STEPS, frame_width=EG_FRAME_WIDTH, fig_width=12)"
   ]
  },
  {
   "cell_type": "code",
   "execution_count": null,
   "metadata": {},
   "outputs": [],
   "source": [
    "from automata import utilities\n",
    "# utilities.interactive_display_automaton(80, 151, 12, ['rule','base','use_highlight', 'h_start'])\n",
    "utilities.interactive_display_automaton(80, 151, 12)"
   ]
  },
  {
   "cell_type": "code",
   "execution_count": null,
   "metadata": {
    "ExecuteTime": {
     "end_time": "2023-09-19T19:36:05.511768Z",
     "start_time": "2023-09-19T19:36:05.450736Z"
    }
   },
   "outputs": [],
   "source": [
    "@interact(r=(0,Rule(0, base=2).n_rules-1,1),b=(2,6,1))\n",
    "def show_rule(r=0, b=2):\n",
    "    Rule(r, base=b).display(Rule.DisplayParams(fig_width=15, grid_color='blue'))\n",
    "    return"
   ]
  },
  {
   "cell_type": "code",
   "execution_count": null,
   "metadata": {},
   "outputs": [],
   "source": [
    "print_eg_lattice = CellularAutomata(3689805234761, '1', base=3, frame_steps=80, frame_width=151).lattice()"
   ]
  },
  {
   "cell_type": "code",
   "execution_count": null,
   "metadata": {},
   "outputs": [],
   "source": [
    "for s in range(len(print_eg_lattice)):\n",
    "    print(''.join(print_eg_lattice[s]))"
   ]
  },
  {
   "cell_type": "code",
   "execution_count": null,
   "metadata": {},
   "outputs": [],
   "source": [
    "@interact(s=(0,len(print_eg_lattice)-1,1))\n",
    "def show_rule(s=0):\n",
    "    print(''.join(print_eg_lattice[s]))\n",
    "    return"
   ]
  },
  {
   "cell_type": "code",
   "execution_count": null,
   "metadata": {},
   "outputs": [],
   "source": [
    "stat_eg_lattice = CellularAutomata(3689805234761, '1', base=3, frame_steps=80, frame_width=151).lattice()"
   ]
  },
  {
   "cell_type": "code",
   "execution_count": null,
   "metadata": {},
   "outputs": [],
   "source": [
    "print([sum([int(c) for c in stat_eg_lattice[s]]) for s in range(len(stat_eg_lattice))])"
   ]
  },
  {
   "cell_type": "code",
   "execution_count": null,
   "metadata": {},
   "outputs": [],
   "source": [
    "# REV - Is this correct?? <<<\n",
    "\n",
    "import timeit\n",
    "\n",
    "timed_frame_steps = 1000\n",
    "test_runs=2\n",
    "\n",
    "# Timing functions\n",
    "def create_memoized_instances():\n",
    "    for _ in range(test_runs):\n",
    "        CellularAutomata(5, '1', frame_steps=timed_frame_steps)        \n",
    "\n",
    "instance = CellularAutomata(5, '1', frame_steps=timed_frame_steps) \n",
    "memoized_time = timeit.timeit(create_memoized_instances, number=1)\n",
    "\n",
    "def create_non_memoized_instances():\n",
    "    for _ in range(test_runs):\n",
    "        instance = CellularAutomata(5, '1', frame_steps=timed_frame_steps)\n",
    "        instance.__class__._instances = {} \n",
    "\n",
    "instance.__class__._instances = {}\n",
    "non_memoized_time = timeit.timeit(create_non_memoized_instances, number=1)\n",
    "\n",
    "non_memoized_time/memoized_time"
   ]
  },
  {
   "cell_type": "code",
   "execution_count": null,
   "metadata": {},
   "outputs": [],
   "source": [
    "eg_ca = CellularAutomata(30, '1000000', frame_steps=10, frame_width=31)\n",
    "implemented_formats = get_ipython().display_formatter.format(eg_ca)[0].keys()\n",
    "# implemented_formats = ['text/plain', 'image/png' ,'image/jpeg', 'application/json']\n",
    "for format in implemented_formats:\n",
    "    print(f\"\\n\\n{format} ---------------------------------\")\n",
    "    display(eg_ca, include=[format])"
   ]
  },
  {
   "cell_type": "code",
   "execution_count": null,
   "metadata": {},
   "outputs": [],
   "source": [
    "print(eg_ca)\n",
    "display(eg_ca)"
   ]
  },
  {
   "cell_type": "code",
   "execution_count": null,
   "metadata": {},
   "outputs": [],
   "source": [
    "CellularAutomata(**eg_ca.to_dict()['args']).display()"
   ]
  },
  {
   "cell_type": "code",
   "execution_count": null,
   "metadata": {},
   "outputs": [],
   "source": [
    " get_ipython().display_formatter.format(eg_ca)[0].keys()"
   ]
  },
  {
   "cell_type": "code",
   "execution_count": null,
   "metadata": {},
   "outputs": [],
   "source": [
    " get_ipython().display_formatter.active_types"
   ]
  },
  {
   "cell_type": "code",
   "execution_count": null,
   "metadata": {},
   "outputs": [],
   "source": []
  }
 ],
 "metadata": {
  "kernelspec": {
   "display_name": "Python 3 (ipykernel)",
   "language": "python",
   "name": "python3"
  },
  "language_info": {
   "codemirror_mode": {
    "name": "ipython",
    "version": 3
   },
   "file_extension": ".py",
   "mimetype": "text/x-python",
   "name": "python",
   "nbconvert_exporter": "python",
   "pygments_lexer": "ipython3",
   "version": "3.12.0"
  },
  "widgets": {
   "application/vnd.jupyter.widget-state+json": {
    "state": {
     "0b43b709968a4e1fb3ddc128b77efea4": {
      "model_module": "@jupyter-widgets/controls",
      "model_module_version": "2.0.0",
      "model_name": "SliderStyleModel",
      "state": {
       "description_width": ""
      }
     },
     "0e89c4280c864a63aafea5c18814ff04": {
      "model_module": "@jupyter-widgets/base",
      "model_module_version": "2.0.0",
      "model_name": "LayoutModel",
      "state": {}
     },
     "0f1f1885b308471e9838d32f1e727944": {
      "model_module": "@jupyter-widgets/output",
      "model_module_version": "1.0.0",
      "model_name": "OutputModel",
      "state": {
       "layout": "IPY_MODEL_4ead8d708009416e8d2df22ade3b4a1c",
       "outputs": [
        {
         "data": {
          "image/png": "iVBORw0KGgoAAAANSUhEUgAABKUAAAAfCAYAAAA2o35LAAAAOXRFWHRTb2Z0d2FyZQBNYXRwbG90bGliIHZlcnNpb24zLjcuMiwgaHR0cHM6Ly9tYXRwbG90bGliLm9yZy8pXeV/AAAACXBIWXMAAA9hAAAPYQGoP6dpAAABuklEQVR4nO3bsWkDURAE0C/jCpQodKBQoArUwlWrTgQXXi3rDsQXSOs5/B5c9hlm04E7VFUNAAAAAGj09dcFAAAAAPh/jFIAAAAAtDNKAQAAANDOKAUAAABAO6MUAAAAAO2MUgAAAAC0M0oBAAAA0M4oBQAAAEC779mHx+Nx3G636eDH4zGu1+vb3yZlJ3XZa3ZSF3dmZyd1cWd2dlIXd2Znv/r+fn+MMeazf372eafs7C7uzM5O6uLO7OykLu7Mzk7q8mr2tm1jXdfnj2rS6XSafVpVVcuyfORtUnZSl71mJ3VxZ3Z2Uhd3ZmcndXFndvar78dYaoya/vZ6p+zsLu7Mzk7q4s7s7KQu7szOTuryiWy/7wEAAADQzigFAAAAQDujFAAAAADtjFIAAAAAtDNKAQAAANDOKAUAAABAO6MUAAAAAO2MUgAAAAC0M0oBAAAA0M4oBQAAAEC7Q1XVzMPL5TLO5/On+wAAAACwc9u2jXVdn76ZHqUAAAAA4F38vgcAAABAO6MUAAAAAO2MUgAAAAC0M0oBAAAA0M4oBQAAAEA7oxQAAAAA7YxSAAAAALQzSgEAAADQ7hcQ/9jAxINIsAAAAABJRU5ErkJggg==",
          "text/plain": "<Figure size 1200x594.059 with 1 Axes>"
         },
         "metadata": {},
         "output_type": "display_data"
        }
       ]
      }
     },
     "10e1301d45444e2db5249e23e15063b1": {
      "model_module": "@jupyter-widgets/output",
      "model_module_version": "1.0.0",
      "model_name": "OutputModel",
      "state": {
       "layout": "IPY_MODEL_f4b6b82af78649418434efacc04a8b0d",
       "outputs": [
        {
         "data": {
          "image/png": "iVBORw0KGgoAAAANSUhEUgAABKUAAAAfCAYAAAA2o35LAAAAOXRFWHRTb2Z0d2FyZQBNYXRwbG90bGliIHZlcnNpb24zLjcuMiwgaHR0cHM6Ly9tYXRwbG90bGliLm9yZy8pXeV/AAAACXBIWXMAAA9hAAAPYQGoP6dpAAABIUlEQVR4nO3bMQ6DQAxEURNRbc/9D0i/rblBQhHNCvFe7WLqL3nr7i4AAAAACPqsHgAAAADA+4hSAAAAAMSJUgAAAADEiVIAAAAAxIlSAAAAAMSJUgAAAADEiVIAAAAAxIlSAAAAAMSJUgAAAADE7asHAAA8xXFUzfn9Zoyq88zsAQB4MlEKAOCmOX9HKQAA7vG+BwAAAECcKAUAAABAnCgFAAAAQJwoBQAAAECcKAUAAABAnCgFAAAAQJwoBQAAAEDcvnoAAMBTjPGfGwAAqrbu7tUjAAAAAHgX73sAAAAAxIlSAAAAAMSJUgAAAADEiVIAAAAAxIlSAAAAAMSJUgAAAADEiVIAAAAAxIlSAAAAAMSJUgAAAADEiVIAAAAAxF3f/BA7sD/XXAAAAABJRU5ErkJggg==",
          "text/plain": "<Figure size 1200x594.059 with 1 Axes>"
         },
         "metadata": {},
         "output_type": "display_data"
        }
       ]
      }
     },
     "18aece4b4987498b9c93371a1d5e3dab": {
      "model_module": "@jupyter-widgets/controls",
      "model_module_version": "2.0.0",
      "model_name": "IntSliderModel",
      "state": {
       "behavior": "drag-tap",
       "description": "s",
       "layout": "IPY_MODEL_671a65f0cac64e829583f761402771de",
       "max": 49,
       "style": "IPY_MODEL_8c9c03e7a4b5484bb5e0f15727feaba9"
      }
     },
     "1bdbbb01e77840e2ac5e38f9e0cb2736": {
      "model_module": "@jupyter-widgets/controls",
      "model_module_version": "2.0.0",
      "model_name": "SliderStyleModel",
      "state": {
       "description_width": ""
      }
     },
     "225de50fe5c140208aa82b4f159d4f02": {
      "model_module": "@jupyter-widgets/base",
      "model_module_version": "2.0.0",
      "model_name": "LayoutModel",
      "state": {}
     },
     "257fae7ef65642b780769b5e0b81e322": {
      "model_module": "@jupyter-widgets/controls",
      "model_module_version": "2.0.0",
      "model_name": "VBoxModel",
      "state": {
       "_dom_classes": [
        "widget-interact"
       ],
       "children": [
        "IPY_MODEL_3c7dac733ad848b8a8d5d789c90309d6",
        "IPY_MODEL_7deeda01c82d490b8310542489ca311d"
       ],
       "layout": "IPY_MODEL_7ae0360523694190a00b28043924af61"
      }
     },
     "2b90eac4bcac498499bfc3ca67394a1e": {
      "model_module": "@jupyter-widgets/base",
      "model_module_version": "2.0.0",
      "model_name": "LayoutModel",
      "state": {}
     },
     "306ba28ca99f493a8cf1f9b655e3f59d": {
      "model_module": "@jupyter-widgets/base",
      "model_module_version": "2.0.0",
      "model_name": "LayoutModel",
      "state": {}
     },
     "340c4dd8e6024e93b3964cc4c8b62208": {
      "model_module": "@jupyter-widgets/controls",
      "model_module_version": "2.0.0",
      "model_name": "IntSliderModel",
      "state": {
       "behavior": "drag-tap",
       "description": "s",
       "layout": "IPY_MODEL_374fb4b6efda42128a236183cac1462c",
       "max": 49,
       "style": "IPY_MODEL_99c38a083fb24a61acfaf702159ee605"
      }
     },
     "374fb4b6efda42128a236183cac1462c": {
      "model_module": "@jupyter-widgets/base",
      "model_module_version": "2.0.0",
      "model_name": "LayoutModel",
      "state": {}
     },
     "39b5a4478ad54f1fbd85a7f4e78c9278": {
      "model_module": "@jupyter-widgets/base",
      "model_module_version": "2.0.0",
      "model_name": "LayoutModel",
      "state": {}
     },
     "3c7dac733ad848b8a8d5d789c90309d6": {
      "model_module": "@jupyter-widgets/controls",
      "model_module_version": "2.0.0",
      "model_name": "IntSliderModel",
      "state": {
       "behavior": "drag-tap",
       "description": "s",
       "layout": "IPY_MODEL_78282e6a495f48c792ccbddca5f4c616",
       "max": 49,
       "style": "IPY_MODEL_0b43b709968a4e1fb3ddc128b77efea4",
       "value": 10
      }
     },
     "43f40180e1d6476b853fa72f36632c72": {
      "model_module": "@jupyter-widgets/controls",
      "model_module_version": "2.0.0",
      "model_name": "VBoxModel",
      "state": {
       "_dom_classes": [
        "widget-interact"
       ],
       "children": [
        "IPY_MODEL_461d049e6aa14ad98310b0cb2106e323",
        "IPY_MODEL_8f89f9c3b6e84e7a843fa7f53d4aba9e"
       ],
       "layout": "IPY_MODEL_f3d47afc10f24ebb9616651462eb8a83"
      }
     },
     "4520ae7111a14864b0ef41bb2014c0aa": {
      "model_module": "@jupyter-widgets/base",
      "model_module_version": "2.0.0",
      "model_name": "LayoutModel",
      "state": {}
     },
     "45b71a3cf2f64e6d83e0b6ce4aa94a7a": {
      "model_module": "@jupyter-widgets/controls",
      "model_module_version": "2.0.0",
      "model_name": "VBoxModel",
      "state": {
       "_dom_classes": [
        "widget-interact"
       ],
       "children": [
        "IPY_MODEL_fc284232f13049dbae860ecaf666320f",
        "IPY_MODEL_9fcd5906e0024a1cb8bcdbcee5c4c7a5"
       ],
       "layout": "IPY_MODEL_39b5a4478ad54f1fbd85a7f4e78c9278"
      }
     },
     "461d049e6aa14ad98310b0cb2106e323": {
      "model_module": "@jupyter-widgets/controls",
      "model_module_version": "2.0.0",
      "model_name": "IntSliderModel",
      "state": {
       "behavior": "drag-tap",
       "description": "s",
       "layout": "IPY_MODEL_67c4ad377c1d48d7a5cfd28f521d21b8",
       "max": 49,
       "style": "IPY_MODEL_677b1b22770940ed88a5eca21fb2551a",
       "value": 29
      }
     },
     "4944fa8fd1b3414187d29a753633dd16": {
      "model_module": "@jupyter-widgets/controls",
      "model_module_version": "2.0.0",
      "model_name": "VBoxModel",
      "state": {
       "_dom_classes": [
        "widget-interact"
       ],
       "children": [
        "IPY_MODEL_340c4dd8e6024e93b3964cc4c8b62208",
        "IPY_MODEL_da78eaf381bc4109a426f3857458e0ae"
       ],
       "layout": "IPY_MODEL_5639591a95824704864cfdbbcaee089a"
      }
     },
     "49e7499cea4f49d8976eecacaceab53d": {
      "model_module": "@jupyter-widgets/base",
      "model_module_version": "2.0.0",
      "model_name": "LayoutModel",
      "state": {}
     },
     "49feeb95213e4a0c802c503cb90af378": {
      "model_module": "@jupyter-widgets/base",
      "model_module_version": "2.0.0",
      "model_name": "LayoutModel",
      "state": {}
     },
     "4baa382206d54f018c042aec8ab56d29": {
      "model_module": "@jupyter-widgets/base",
      "model_module_version": "2.0.0",
      "model_name": "LayoutModel",
      "state": {}
     },
     "4ead8d708009416e8d2df22ade3b4a1c": {
      "model_module": "@jupyter-widgets/base",
      "model_module_version": "2.0.0",
      "model_name": "LayoutModel",
      "state": {}
     },
     "518d83d59223470fa14bff0b0c71bb54": {
      "model_module": "@jupyter-widgets/base",
      "model_module_version": "2.0.0",
      "model_name": "LayoutModel",
      "state": {}
     },
     "5639591a95824704864cfdbbcaee089a": {
      "model_module": "@jupyter-widgets/base",
      "model_module_version": "2.0.0",
      "model_name": "LayoutModel",
      "state": {}
     },
     "5c46ca46251249c5bd5b4d2641b11070": {
      "model_module": "@jupyter-widgets/controls",
      "model_module_version": "2.0.0",
      "model_name": "VBoxModel",
      "state": {
       "_dom_classes": [
        "widget-interact"
       ],
       "children": [
        "IPY_MODEL_7d3506fc52214074a72814cc1909b8f1",
        "IPY_MODEL_7bf4645f783d4f0f82679b23090a7cfd"
       ],
       "layout": "IPY_MODEL_a28efd9b2da64f81a47bcb1de69b48f5"
      }
     },
     "632346a617d74afbb1575875f748dc30": {
      "model_module": "@jupyter-widgets/base",
      "model_module_version": "2.0.0",
      "model_name": "LayoutModel",
      "state": {}
     },
     "645eab5db2c04029ac4725067e9c6e31": {
      "model_module": "@jupyter-widgets/controls",
      "model_module_version": "2.0.0",
      "model_name": "VBoxModel",
      "state": {
       "_dom_classes": [
        "widget-interact"
       ],
       "children": [
        "IPY_MODEL_88c1a298e64f4b788295bfa85f3716be",
        "IPY_MODEL_10e1301d45444e2db5249e23e15063b1"
       ],
       "layout": "IPY_MODEL_2b90eac4bcac498499bfc3ca67394a1e"
      }
     },
     "671a65f0cac64e829583f761402771de": {
      "model_module": "@jupyter-widgets/base",
      "model_module_version": "2.0.0",
      "model_name": "LayoutModel",
      "state": {}
     },
     "677b1b22770940ed88a5eca21fb2551a": {
      "model_module": "@jupyter-widgets/controls",
      "model_module_version": "2.0.0",
      "model_name": "SliderStyleModel",
      "state": {
       "description_width": ""
      }
     },
     "67c4ad377c1d48d7a5cfd28f521d21b8": {
      "model_module": "@jupyter-widgets/base",
      "model_module_version": "2.0.0",
      "model_name": "LayoutModel",
      "state": {}
     },
     "78282e6a495f48c792ccbddca5f4c616": {
      "model_module": "@jupyter-widgets/base",
      "model_module_version": "2.0.0",
      "model_name": "LayoutModel",
      "state": {}
     },
     "7ae0360523694190a00b28043924af61": {
      "model_module": "@jupyter-widgets/base",
      "model_module_version": "2.0.0",
      "model_name": "LayoutModel",
      "state": {}
     },
     "7bf4645f783d4f0f82679b23090a7cfd": {
      "model_module": "@jupyter-widgets/output",
      "model_module_version": "1.0.0",
      "model_name": "OutputModel",
      "state": {
       "layout": "IPY_MODEL_49e7499cea4f49d8976eecacaceab53d",
       "outputs": [
        {
         "data": {
          "image/png": "iVBORw0KGgoAAAANSUhEUgAABKUAAAAfCAYAAAA2o35LAAAAOXRFWHRTb2Z0d2FyZQBNYXRwbG90bGliIHZlcnNpb24zLjcuMiwgaHR0cHM6Ly9tYXRwbG90bGliLm9yZy8pXeV/AAAACXBIWXMAAA9hAAAPYQGoP6dpAAACzklEQVR4nO3cMU4rMRAG4OEJaducAIooHR1X4AQclEvkCnSrLXKDtFstBe91T2AHbMbk+5o0o9nfXksOI5Gbbdu2AAAAAICO/vx0AAAAAACuj6EUAAAAAN0ZSgEAAADQnaEUAAAAAN0ZSgEAAADQnaEUAAAAAN0ZSgEAAADQ3W1J0fl8jmVZYpqm1nkAAAAAGNi6rrHf72O3231YVzSUWpYljsdjPD09FT18nueIiDgcDt9am6l3piyj9s6UZZ7neH6OiCjrHTH//Syvf3lpt87y7OU5arP0OCst11nT+52z8pXe775/Ty7Jkql3xHh7nu0c1mYprb/knsixh/VZMq2ztL5l7h5Z3v3+O6i0fvSzci13UGm9++1nspTWX9PfeyP2zpSltvfxeIyIiMfHxw/rioZS0zTF/f19PDw8FD38n5r6UXtnyjJq71xZ6nrX1B8ObddZmqU2R22W1mel5Trr3r+z8pXetbUts2TrPeqej7yHre6JLHt4SZZM68ySu2WW+vo8Z2Xc7xTuoP92TvQ+f/v91iNLlt6ZsozaO1OW0tp5nov+285vSgEAAADQnaEUAAAAAN0ZSgEAAADQnaEUAAAAAN0ZSgEAAADQnaEUAAAAAN0ZSgEAAADQnaEUAAAAAN0ZSgEAAADQ3W1J0bqucTqd4vX1tajpPM/FAWpqM/XOlGXU3pmy1PaOqK8vfUTbPS/PUds701lpuc5L3n1t/W8/Ky335JIsY/bOs+fjnsP290SOPWybJcs6W+bukaVN7WX1I77PUc/KuL3zvM9Rz3imLJm+w+udO0tt79PpFHd3d5/W3Wzbtn1WdD6fY1mWmKapKgQAAAAA12Vd19jv97Hb7T6sKxpKAQAAAMB38ptSAAAAAHRnKAUAAABAd4ZSAAAAAHRnKAUAAABAd4ZSAAAAAHRnKAUAAABAd4ZSAAAAAHRnKAUAAABAd28K9XAle1utYAAAAABJRU5ErkJggg==",
          "text/plain": "<Figure size 1200x594.059 with 1 Axes>"
         },
         "metadata": {},
         "output_type": "display_data"
        }
       ]
      }
     },
     "7d3506fc52214074a72814cc1909b8f1": {
      "model_module": "@jupyter-widgets/controls",
      "model_module_version": "2.0.0",
      "model_name": "IntSliderModel",
      "state": {
       "behavior": "drag-tap",
       "description": "s",
       "layout": "IPY_MODEL_632346a617d74afbb1575875f748dc30",
       "max": 49,
       "style": "IPY_MODEL_81bf9b63853c47be8ce32de08458b062",
       "value": 34
      }
     },
     "7deeda01c82d490b8310542489ca311d": {
      "model_module": "@jupyter-widgets/output",
      "model_module_version": "1.0.0",
      "model_name": "OutputModel",
      "state": {
       "layout": "IPY_MODEL_306ba28ca99f493a8cf1f9b655e3f59d",
       "outputs": [
        {
         "data": {
          "image/png": "iVBORw0KGgoAAAANSUhEUgAABKUAAAAfCAYAAAA2o35LAAAAOXRFWHRTb2Z0d2FyZQBNYXRwbG90bGliIHZlcnNpb24zLjcuMiwgaHR0cHM6Ly9tYXRwbG90bGliLm9yZy8pXeV/AAAACXBIWXMAAA9hAAAPYQGoP6dpAAACMklEQVR4nO3bsU5CQRAF0MFYbQ01//9Z1FC/9lmZaDQ8FtxhFs+pTJxc7sgjxkncreu6BgAAAAAkent2AQAAAAD+H0cpAAAAANI5SgEAAACQzlEKAAAAgHSOUgAAAACkc5QCAAAAIJ2jFAAAAADpHKUAAAAASOcoBQAAAEC6957h4/EYl8vl6kxrLc7nc0REHA6HWJblT2YrZVfqMmt2pS72rJ1dqYs9a2dX6vJ1NuIQEdezI1pE3Dc/cs/tLrf36O2S+ayM3LMne/SzMuuez33G87pU+ky86p5+hq/VZdbsSl3sWTu7Upfe7P1+H6fT6erMp66j1LIsmy9+7/ys2ZW6zJpdqYs9a2dX6mLP2tm1uiyx/Ufv/fMj9+zpMu/7EzFyz773c+yzMuueVZ7x0V2qZFfqMmt2pS72rJ1dqYs9a2dX6nLLbM9r+/c9AAAAANI5SgEAAACQzlEKAAAAgHSOUgAAAACkc5QCAAAAIJ2jFAAAAADpHKUAAAAASPfeM9xai9ba5sxvXz86Wym7UpdZsyt1sWft7Epd7Fk7u1KX79/fzv4+0zc/cs/tLnO+Pz9nxu3Zkz36WZl1z+c+43ldKn0mXnVPP8PX6jJrdqUu9qydXanLY79rr9ut67rePA0AAAAAf8C/7wEAAACQzlEKAAAAgHSOUgAAAACkc5QCAAAAIJ2jFAAAAADpHKUAAAAASOcoBQAAAEA6RykAAAAA0jlKAQAAAJDOUQoAAACAdB8SfW93xGc3LwAAAABJRU5ErkJggg==",
          "text/plain": "<Figure size 1200x594.059 with 1 Axes>"
         },
         "metadata": {},
         "output_type": "display_data"
        }
       ]
      }
     },
     "81bf9b63853c47be8ce32de08458b062": {
      "model_module": "@jupyter-widgets/controls",
      "model_module_version": "2.0.0",
      "model_name": "SliderStyleModel",
      "state": {
       "description_width": ""
      }
     },
     "88c1a298e64f4b788295bfa85f3716be": {
      "model_module": "@jupyter-widgets/controls",
      "model_module_version": "2.0.0",
      "model_name": "IntSliderModel",
      "state": {
       "behavior": "drag-tap",
       "description": "s",
       "layout": "IPY_MODEL_518d83d59223470fa14bff0b0c71bb54",
       "max": 49,
       "style": "IPY_MODEL_9963edfe6237436abfb09f9bf59bee88"
      }
     },
     "8c9c03e7a4b5484bb5e0f15727feaba9": {
      "model_module": "@jupyter-widgets/controls",
      "model_module_version": "2.0.0",
      "model_name": "SliderStyleModel",
      "state": {
       "description_width": ""
      }
     },
     "8f89f9c3b6e84e7a843fa7f53d4aba9e": {
      "model_module": "@jupyter-widgets/output",
      "model_module_version": "1.0.0",
      "model_name": "OutputModel",
      "state": {
       "layout": "IPY_MODEL_4520ae7111a14864b0ef41bb2014c0aa",
       "outputs": [
        {
         "data": {
          "image/png": "iVBORw0KGgoAAAANSUhEUgAABKUAAAAfCAYAAAA2o35LAAAAOXRFWHRTb2Z0d2FyZQBNYXRwbG90bGliIHZlcnNpb24zLjcuMiwgaHR0cHM6Ly9tYXRwbG90bGliLm9yZy8pXeV/AAAACXBIWXMAAA9hAAAPYQGoP6dpAAACA0lEQVR4nO3bMUoEQRAF0FrxHgZmK3gTvat4BU+wMOGCmZlXaBNjnQK7rGbeg83Kprq3a0Y+7GmMMQIAAAAACt38dwMAAAAAHI9QCgAAAIByQikAAAAAygmlAAAAACgnlAIAAACgnFAKAAAAgHJCKQAAAADKCaUAAAAAKHe7t/DzdIq3xMKPEXGZUNtp7U69rLp2p16Oss/nu+8/2Ouyv/79Ndf3zF5Stcn6TvvM9tLlrmS/n5n7zM5b5lyOclc6PbM6zUSml6nzlqxf9QxnznJE9HlPTPzus/WdniudzrDL7Hd6B808w1X/J+/Ui332XrtTL+ln8/kcsW0/F42dPiJGJD4vk2o7rd2pl1XX7tTLUfY5nmKMkfgk6rN9z+zlKPtc9a5k1+40b+5K72fWqr1MnbdGd2XmGa48b13eb53uyspn2GX2O81Ep9nvsnanXuyz99qdesk/V57Gb/x8DwAAAIByQikAAAAAygmlAAAAACgnlAIAAACgnFAKAAAAgHJCKQAAAADKCaUAAAAAKCeUAgAAAKCcUAoAAACAckIpAAAAAMqdxhhjV+XDQ8T9/eR2AAAAAFje9RqxbT+W7A+lAAAAAOCP+PkeAAAAAOWEUgAAAACUE0oBAAAAUE4oBQAAAEA5oRQAAAAA5YRSAAAAAJQTSgEAAABQTigFAAAAQLkvh8mHN5+rRc0AAAAASUVORK5CYII=",
          "text/plain": "<Figure size 1200x594.059 with 1 Axes>"
         },
         "metadata": {},
         "output_type": "display_data"
        }
       ]
      }
     },
     "9963edfe6237436abfb09f9bf59bee88": {
      "model_module": "@jupyter-widgets/controls",
      "model_module_version": "2.0.0",
      "model_name": "SliderStyleModel",
      "state": {
       "description_width": ""
      }
     },
     "99c38a083fb24a61acfaf702159ee605": {
      "model_module": "@jupyter-widgets/controls",
      "model_module_version": "2.0.0",
      "model_name": "SliderStyleModel",
      "state": {
       "description_width": ""
      }
     },
     "9fcd5906e0024a1cb8bcdbcee5c4c7a5": {
      "model_module": "@jupyter-widgets/output",
      "model_module_version": "1.0.0",
      "model_name": "OutputModel",
      "state": {
       "layout": "IPY_MODEL_4baa382206d54f018c042aec8ab56d29",
       "outputs": [
        {
         "data": {
          "image/png": "iVBORw0KGgoAAAANSUhEUgAABKUAAAAfCAYAAAA2o35LAAAAOXRFWHRTb2Z0d2FyZQBNYXRwbG90bGliIHZlcnNpb24zLjcuMiwgaHR0cHM6Ly9tYXRwbG90bGliLm9yZy8pXeV/AAAACXBIWXMAAA9hAAAPYQGoP6dpAAAB0UlEQVR4nO3bwY3CQAwF0GG19aQUek0PVEAF3LjRgrcEMoKYn+U9iZtl2ZkRoC84VVUNAAAAAGj08+kBAAAAAPg+QikAAAAA2gmlAAAAAGgnlAIAAACgnVAKAAAAgHZCKQAAAADaCaUAAAAAaCeUAgAAAKDd79bCx+MxLpfL5sbLsozr9fr22qTeSbMctXfSLPbM7p00iz1frz+flzHG9t5jzNXfbimz5Ow5e55zzyXnfGZ6j7Hvvc25h7P1+/VOOp+jPsMjv6+kfAb5HP9fsxy1d9Is9szunTTL/PfJ8/Oi2uh+v9cYY/NrXdddapN6J81y1N5Js9gzu3fSLPZ8vb5qraox8Zqrz5klZ8/Z89xzzz3PJ+ne5tzDnHubdD5HfYZHfl/5ht5Js9gzu3fSLPbM7p00y/z3yef8fQ8AAACAdkIpAAAAANoJpQAAAABoJ5QCAAAAoJ1QCgAAAIB2QikAAAAA2gmlAAAAAGgnlAIAAACgnVAKAAAAgHZCKQAAAADanaqqPj0EAAAAAN/FL6UAAAAAaCeUAgAAAKCdUAoAAACAdkIpAAAAANoJpQAAAABoJ5QCAAAAoJ1QCgAAAIB2QikAAAAA2gmlAAAAAGj3B1iDq4AuPSBxAAAAAElFTkSuQmCC",
          "text/plain": "<Figure size 1200x594.059 with 1 Axes>"
         },
         "metadata": {},
         "output_type": "display_data"
        }
       ]
      }
     },
     "a28efd9b2da64f81a47bcb1de69b48f5": {
      "model_module": "@jupyter-widgets/base",
      "model_module_version": "2.0.0",
      "model_name": "LayoutModel",
      "state": {}
     },
     "da78eaf381bc4109a426f3857458e0ae": {
      "model_module": "@jupyter-widgets/output",
      "model_module_version": "1.0.0",
      "model_name": "OutputModel",
      "state": {
       "layout": "IPY_MODEL_49feeb95213e4a0c802c503cb90af378",
       "outputs": [
        {
         "data": {
          "image/png": "iVBORw0KGgoAAAANSUhEUgAABKUAAAAfCAYAAAA2o35LAAAAOXRFWHRTb2Z0d2FyZQBNYXRwbG90bGliIHZlcnNpb24zLjcuMiwgaHR0cHM6Ly9tYXRwbG90bGliLm9yZy8pXeV/AAAACXBIWXMAAA9hAAAPYQGoP6dpAAACbklEQVR4nO3csW7bQBAE0KHgimwFqff/f5N7CmypUpcqhgJEZhwrl2XyXkWAh9FsuzhqaK21AAAAAEBHh79dAAAAAID/j6UUAAAAAN1ZSgEAAADQnaUUAAAAAN1ZSgEAAADQnaUUAAAAAN29bB243W5ZliVJMo5jhmH446UAAAAA2J/WWq7Xa5LkeDzmcHh8H2pzKbUsS87n8/PaAQAAAPDPm+c5p9Pp4Xuf7wEAAADQ3eZNqXEc35/f3t4+3HAlybqu7zer5nnONE1POVspu1KXvWZX6mLO2tmVupizdnalLuasnf2VLsmc5OPsZE2y7zll1+tiztrZlbqYs3Z2pS7mrJ1dqctnsy+XS15fX5P8uFP6mc2l1P1/SE3TtPnj9z5zfq/ZlbrsNbtSF3PWzq7UxZy1syt1MWft7M+fn7K9lPq97Epzyq7dxZy1syt1MWft7EpdzFk7u1KXXzl7/37rf8l9vgcAAABAd5ZSAAAAAHRnKQUAAABAd5ZSAAAAAHRnKQUAAABAd5ZSAAAAAHRnKQUAAABAdy9bB1pr78/rumZd1w/P379/5tlK2ZW67DW7Uhdz1s6u1MWctbMrdTFn7eyvdEm2s+/P7HVO2fW6mLN2dqUu5qydXamLOWtnV+rylez7ndLPDG3jxOVyyfl83vxRAAAAAPhunuecTqeH732+BwAAAEB3mzelbrdblmVJkozjmGEYuhQDAAAAYF9aa7ler0mS4/GYw+HxfajNpRQAAAAAPJvP9wAAAADozlIKAAAAgO4spQAAAADozlIKAAAAgO4spQAAAADozlIKAAAAgO4spQAAAADo7huIzfGz7fS0igAAAABJRU5ErkJggg==",
          "text/plain": "<Figure size 1200x594.059 with 1 Axes>"
         },
         "metadata": {},
         "output_type": "display_data"
        }
       ]
      }
     },
     "f3d47afc10f24ebb9616651462eb8a83": {
      "model_module": "@jupyter-widgets/base",
      "model_module_version": "2.0.0",
      "model_name": "LayoutModel",
      "state": {}
     },
     "f4b6b82af78649418434efacc04a8b0d": {
      "model_module": "@jupyter-widgets/base",
      "model_module_version": "2.0.0",
      "model_name": "LayoutModel",
      "state": {}
     },
     "fc284232f13049dbae860ecaf666320f": {
      "model_module": "@jupyter-widgets/controls",
      "model_module_version": "2.0.0",
      "model_name": "IntSliderModel",
      "state": {
       "behavior": "drag-tap",
       "description": "s",
       "layout": "IPY_MODEL_0e89c4280c864a63aafea5c18814ff04",
       "max": 49,
       "style": "IPY_MODEL_1bdbbb01e77840e2ac5e38f9e0cb2736",
       "value": 15
      }
     },
     "fd85ab0fba6944c987c8c236536ef22b": {
      "model_module": "@jupyter-widgets/controls",
      "model_module_version": "2.0.0",
      "model_name": "VBoxModel",
      "state": {
       "_dom_classes": [
        "widget-interact"
       ],
       "children": [
        "IPY_MODEL_18aece4b4987498b9c93371a1d5e3dab",
        "IPY_MODEL_0f1f1885b308471e9838d32f1e727944"
       ],
       "layout": "IPY_MODEL_225de50fe5c140208aa82b4f159d4f02"
      }
     }
    },
    "version_major": 2,
    "version_minor": 0
   }
  }
 },
 "nbformat": 4,
 "nbformat_minor": 4
}
