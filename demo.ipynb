{
 "cells": [
  {
   "cell_type": "code",
   "execution_count": 1,
   "metadata": {
    "ExecuteTime": {
     "end_time": "2023-10-05T18:05:18.484994Z",
     "start_time": "2023-10-05T18:05:17.893151Z"
    }
   },
   "outputs": [],
   "source": [
    "from ipywidgets import interact, widgets #, interactive, fixed, interact_manual"
   ]
  },
  {
   "cell_type": "code",
   "execution_count": 2,
   "metadata": {
    "ExecuteTime": {
     "end_time": "2023-10-05T18:05:20.789102Z",
     "start_time": "2023-10-05T18:05:20.334725Z"
    },
    "collapsed": false,
    "jupyter": {
     "outputs_hidden": false
    }
   },
   "outputs": [],
   "source": [
    "from automata import *"
   ]
  },
  {
   "cell_type": "code",
   "execution_count": 3,
   "metadata": {
    "ExecuteTime": {
     "end_time": "2023-10-05T18:05:21.696669Z",
     "start_time": "2023-10-05T18:05:21.675437Z"
    }
   },
   "outputs": [
    {
     "data": {
      "text/plain": [
       "'11111111'"
      ]
     },
     "execution_count": 3,
     "metadata": {},
     "output_type": "execute_result"
    }
   ],
   "source": [
    "Rule(255).encoding"
   ]
  },
  {
   "cell_type": "code",
   "execution_count": 4,
   "metadata": {
    "ExecuteTime": {
     "end_time": "2023-10-05T18:05:25.000902Z",
     "start_time": "2023-10-05T18:05:24.995045Z"
    }
   },
   "outputs": [
    {
     "data": {
      "text/plain": [
       "'00000001'"
      ]
     },
     "execution_count": 4,
     "metadata": {},
     "output_type": "execute_result"
    }
   ],
   "source": [
    "Rule(1).encoding"
   ]
  },
  {
   "cell_type": "code",
   "execution_count": 5,
   "metadata": {
    "ExecuteTime": {
     "end_time": "2023-10-05T18:05:25.930737Z",
     "start_time": "2023-10-05T18:05:25.916622Z"
    }
   },
   "outputs": [
    {
     "data": {
      "text/plain": [
       "30"
      ]
     },
     "execution_count": 5,
     "metadata": {},
     "output_type": "execute_result"
    }
   ],
   "source": [
    "Rule._decode('00011110', base=2)"
   ]
  },
  {
   "cell_type": "code",
   "execution_count": 6,
   "metadata": {
    "ExecuteTime": {
     "end_time": "2023-10-05T18:05:26.865996Z",
     "start_time": "2023-10-05T18:05:26.860760Z"
    }
   },
   "outputs": [
    {
     "data": {
      "text/plain": [
       "256"
      ]
     },
     "execution_count": 6,
     "metadata": {},
     "output_type": "execute_result"
    }
   ],
   "source": [
    "Rule(30).n_rules"
   ]
  },
  {
   "cell_type": "code",
   "execution_count": 7,
   "metadata": {
    "ExecuteTime": {
     "end_time": "2023-10-05T18:05:27.353416Z",
     "start_time": "2023-10-05T18:05:27.337068Z"
    }
   },
   "outputs": [
    {
     "data": {
      "text/plain": [
       "{'111': '0',\n",
       " '110': '0',\n",
       " '101': '0',\n",
       " '100': '1',\n",
       " '011': '1',\n",
       " '010': '1',\n",
       " '001': '1',\n",
       " '000': '0'}"
      ]
     },
     "execution_count": 7,
     "metadata": {},
     "output_type": "execute_result"
    }
   ],
   "source": [
    "Rule(30).pattern_to_output"
   ]
  },
  {
   "cell_type": "code",
   "execution_count": 8,
   "metadata": {
    "ExecuteTime": {
     "end_time": "2023-10-05T18:05:27.886285Z",
     "start_time": "2023-10-05T18:05:27.872421Z"
    }
   },
   "outputs": [
    {
     "data": {
      "text/plain": [
       "dict_keys(['111', '110', '101', '100', '011', '010', '001', '000'])"
      ]
     },
     "execution_count": 8,
     "metadata": {},
     "output_type": "execute_result"
    }
   ],
   "source": [
    "Rule(30).pattern_to_output.keys()"
   ]
  },
  {
   "cell_type": "code",
   "execution_count": 9,
   "metadata": {
    "ExecuteTime": {
     "end_time": "2023-10-05T18:05:28.314595Z",
     "start_time": "2023-10-05T18:05:28.309585Z"
    }
   },
   "outputs": [
    {
     "data": {
      "text/plain": [
       "7625597484987"
      ]
     },
     "execution_count": 9,
     "metadata": {},
     "output_type": "execute_result"
    }
   ],
   "source": [
    "Rule(30, base=3).n_rules"
   ]
  },
  {
   "cell_type": "code",
   "execution_count": 28,
   "metadata": {
    "ExecuteTime": {
     "end_time": "2023-09-19T19:36:04.418197Z",
     "start_time": "2023-09-19T19:36:04.399061Z"
    },
    "collapsed": false,
    "jupyter": {
     "outputs_hidden": false
    }
   },
   "outputs": [],
   "source": [
    "step_eg = CellularAutomata(30, '1', frame_steps=50)"
   ]
  },
  {
   "cell_type": "code",
   "execution_count": 29,
   "metadata": {
    "ExecuteTime": {
     "end_time": "2023-09-19T19:36:04.621019Z",
     "start_time": "2023-09-19T19:36:04.402837Z"
    },
    "collapsed": false,
    "jupyter": {
     "outputs_hidden": false
    }
   },
   "outputs": [
    {
     "data": {
      "application/vnd.jupyter.widget-view+json": {
       "model_id": "fb0d5987a4ce4d0288a3719b0b9c163e",
       "version_major": 2,
       "version_minor": 0
      },
      "text/plain": [
       "interactive(children=(IntSlider(value=0, description='s', max=49), Output()), _dom_classes=('widget-interact',…"
      ]
     },
     "metadata": {},
     "output_type": "display_data"
    }
   ],
   "source": [
    "@interact(s=(0,step_eg.frame_steps-1,1))\n",
    "def show_alt_step(s=0):\n",
    "    step_eg.display(CellularAutomata.DisplayParams(\n",
    "        slice_spec=SliceSpec(s,), \n",
    "        cell_colors=['white', 'blue'], \n",
    "        grid_color='black', grid_thickness=0.25))\n",
    "    return"
   ]
  },
  {
   "cell_type": "code",
   "execution_count": 31,
   "metadata": {
    "ExecuteTime": {
     "end_time": "2023-09-19T19:36:04.784451Z",
     "start_time": "2023-09-19T19:36:04.701094Z"
    }
   },
   "outputs": [
    {
     "data": {
      "application/vnd.jupyter.widget-view+json": {
       "model_id": "64b7413469a64b968e2c6eebbe4d76b7",
       "version_major": 2,
       "version_minor": 0
      },
      "text/plain": [
       "interactive(children=(IntSlider(value=0, description='r', max=7625597484986), Output()), _dom_classes=('widget…"
      ]
     },
     "metadata": {},
     "output_type": "display_data"
    }
   ],
   "source": [
    "@interact(r=(0,Rule(0, base=3).n_rules-1,1))\n",
    "def show_rule(r=0):\n",
    "    Rule(r, base=3).display(Rule.DisplayParams(fig_width=10, rows=3))\n",
    "    return"
   ]
  },
  {
   "cell_type": "code",
   "execution_count": 41,
   "metadata": {},
   "outputs": [
    {
     "data": {
      "application/vnd.jupyter.widget-view+json": {
       "model_id": "a156e078e55643e5aa9eda61ca51b61f",
       "version_major": 2,
       "version_minor": 0
      },
      "text/plain": [
       "HBox(children=(VBox(children=(IntSlider(value=90, description='Rule:', max=255), IntSlider(value=2, descriptio…"
      ]
     },
     "metadata": {},
     "output_type": "display_data"
    },
    {
     "data": {
      "application/vnd.jupyter.widget-view+json": {
       "model_id": "7f7d259edcf146f5bb0001c6207ac16b",
       "version_major": 2,
       "version_minor": 0
      },
      "text/plain": [
       "Output()"
      ]
     },
     "metadata": {},
     "output_type": "display_data"
    }
   ],
   "source": [
    "from automata import utilities\n",
    "# utilities.interactive_display_automaton(80, 151, 12, ['rule','base','use_highlight', 'h_start'])\n",
    "utilities.interactive_display_automaton(80, 151, 12)"
   ]
  },
  {
   "cell_type": "code",
   "execution_count": 42,
   "metadata": {
    "ExecuteTime": {
     "end_time": "2023-09-19T19:36:05.511768Z",
     "start_time": "2023-09-19T19:36:05.450736Z"
    }
   },
   "outputs": [
    {
     "data": {
      "application/vnd.jupyter.widget-view+json": {
       "model_id": "ee60325f8770472c97b8dba3e738864d",
       "version_major": 2,
       "version_minor": 0
      },
      "text/plain": [
       "interactive(children=(IntSlider(value=0, description='r', max=255), IntSlider(value=2, description='b', max=6,…"
      ]
     },
     "metadata": {},
     "output_type": "display_data"
    }
   ],
   "source": [
    "@interact(r=(0,Rule(0, base=2).n_rules-1,1),b=(2,6,1))\n",
    "def show_rule(r=0, b=2):\n",
    "    Rule(r, base=b).display(Rule.DisplayParams(fig_width=15, grid_color='blue'))\n",
    "    return"
   ]
  },
  {
   "cell_type": "code",
   "execution_count": 43,
   "metadata": {},
   "outputs": [],
   "source": [
    "print_eg_lattice = CellularAutomata(3689805234761, '1', base=3, frame_steps=80, frame_width=151).lattice()"
   ]
  },
  {
   "cell_type": "code",
   "execution_count": 46,
   "metadata": {},
   "outputs": [
    {
     "name": "stdout",
     "output_type": "stream",
     "text": [
      "0000000000000000000000000000000000000000000000000000000000000000000000000001000000000000000000000000000000000000000000000000000000000000000000000000000\n",
      "2222222222222222222222222222222222222222222222222222222222222222222222222221122222222222222222222222222222222222222222222222222222222222222222222222222\n",
      "2111111111111111111111111111111111111111111111111111111111111111111111111110201111111111111111111111111111111111111111111111111111111111111111111111111\n",
      "2011111111111111111111111111111111111111111111111111111111111111111111111121100111111111111111111111111111111111111111111111111111111111111111111111112\n",
      "1001111111111111111111111111111111111111111111111111111111111111111111111200212011111111111111111111111111111111111111111111111111111111111111111111120\n",
      "1120111111111111111111111111111111111111111111111111111111111111111111112020200001111111111111111111111111111111111111111111111111111111111111111111202\n",
      "0200011111111111111111111111111111111111111111111111111111111111111111120212122220111111111111111111111111111111111111111111111111111111111111111112021\n",
      "0122201111111111111111111111111111111111111111111111111111111111111111202200001110011111111111111111111111111111111111111111111111111111111111111120221\n",
      "2101100111111111111111111111111111111111111111111111111111111111111112022122220121201111111111111111111111111111111111111111111111111111111111111202211\n",
      "2110212011111111111111111111111111111111111111111111111111111111111120221001110100000111111111111111111111111111111111111111111111111111111111112022102\n",
      "2021200001111111111111111111111111111111111111111111111111111111111202211120121112222011111111111111111111111111111111111111111111111111111111120221111\n",
      "1220022220111111111111111111111111111111111111111111111111111111112022101200100120111001111111111111111111111111111111111111111111111111111111202210112\n",
      "1012021110011111111111111111111111111111111111111111111111111111120221111022112100012120111111111111111111111111111111111111111111111111111112022111020\n",
      "1110220121201111111111111111111111111111111111111111111111111111202210112121020112210000011111111111111111111111111111111111111111111111111120221012112\n",
      "0121210100000111111111111111111111111111111111111111111111111112022111020001110020111222201111111111111111111111111111111111111111111111111202211110020\n",
      "2100011112222011111111111111111111111111111111111111111111111120221012112220121010012011100111111111111111111111111111111111111111111111112022101121012\n",
      "2112201120111001111111111111111111111111111111111111111111111202211110020110101111210001212011111111111111111111111111111111111111111111120221110201110\n",
      "2020100200012120111111111111111111111111111111111111111111112022101121010021110112011221000001111111111111111111111111111111111111111111202210121100121\n",
      "1210110122210000011111111111111111111111111111111111111111120221110201111020121020002011122220111111111111111111111111111111111111111112022111100212101\n",
      "1011021101111222201111111111111111111111111111111111111111202210121100112110101112201001201110011111111111111111111111111111111111111120221011210200111\n",
      "1102120210112011100111111111111111111111111111111111111112022111100212020021110120101121000121201111111111111111111111111111111111111202211102011122012\n",
      "0212002211020001212011111111111111111111111111111111111120221011210200212020121100110201122100000111111111111111111111111111111111112022101211001201010\n",
      "0200202102112221000001111111111111111111111111111111111202211102011120200210100212021100201112222011111111111111111111111111111111120221111002121001111\n",
      "0120122112020111122220111111111111111111111111111111112022101211001202120211110200220210100120111001111111111111111111111111111111202210112102001120112\n",
      "2100101020210011201110011111111111111111111111111111120221111002121022002201121120212211112100012120111111111111111111111111111112022111020111220200020\n",
      "2112111112211202000121201111111111111111111111111111202210112102001121202100200202200101120112210000011111111111111111111111111120221012110012012122012\n",
      "2020011120102021222100000111111111111111111111111112022111020111220200022110120122122110200020111222201111111111111111111111111202211110021210010001010\n",
      "1212201200111220011112222011111111111111111111111120221012110012012122021021100101001021122010012011100111111111111111111111112022101121020011211221111\n",
      "1000101022012012201120111001111111111111111111111202211110021210010001221120212111121120201011210001212011111111111111111111120221110201112202002010112\n",
      "1122111121010010100200012120111111111111111111112022101121020011211221010202200011200202101102011221000001111111111111111111202210121100120121201011020\n",
      "0201011201111211110122210000011111111111111111120221110201112202002011111122122202020122110211002011122220111111111111111112022111100212100100001102112\n",
      "0101102000112001121101111222201111111111111111202210121100120121201001111201001121210101021202101001201110011111111111111120221011210200112112220212020\n",
      "2110211222020220200210112011100111111111111112022111100212100100001120112001120200011111120022111121000121201111111111111202211102011122020020112200212\n",
      "2021202011212212120211020001212011111111111120221011210200112112220200020220202122201111202021011201122100000111111111112022101211001201212010020120200\n",
      "1220021002000100002202112221000001111111111202211102011122020020112122012212122001100112021221102000201112222011111111120221111002121001000011010102122\n",
      "1012021101222112202122020111122220111111112022101211001201212010020001010100001220212020220010211220100120111001111111202210112102001121122202111112001\n",
      "1110220211011020122001210011201110011111120221111002121001000011012221111112221012200212212211202010112100012120111112022111020111220200201122011120221\n",
      "0121212202102110101221011202000121201111202210112102001121122202110110111120111110120200100102021011020112210000011120221012110012012120100201001202211\n",
      "2100000122112021111011102021222100000112022111020111220200201122021021011200011121102122112111221102110020111222201202211110021210010000110101121022102\n",
      "2112222101020220112101211220011112222020221012110012012120100201221121102022201200212001020012010212021010012011101022101121020011211222021110201121111\n",
      "2020111111112210020111002012201120111212211110021210010000110101010200211221101020200221112210011200221111210001211121110201112202002011220121100200112\n",
      "1210011111120111010012101010100200012000101121020011211222021111111120202010211112120210120111202020210112011221001200121100120121201002010100210122020\n",
      "1011201111200012111210111111110122210222110201112202002011220111111202121011201120002211100012021212211020002011121022100212100100001101011110211101212\n",
      "1102000112022210012011011111121101111211021100120121201002010011112022001102000202202101212210220000102112201001201121110200112112220211101121201211000\n",
      "0211222020221111210002101111200210112002120212100100001101011201120221220211220122122111000111212222112020101121000200121122020020112201210200001002122\n",
      "0202011212210112011202110112020211020202002200112112220211102000202210012202010101001012122012000111020210110201120122100201212010020101011122221102001\n",
      "0121002000111020002022021020212202112121202122020020112201211220122111210121011111121110001010222012112211021100200101110101000011010111101201110211221\n",
      "2101101222012112201221221112200122020000022001212010020101002010101012011101101111200121221111211010020102120210122110121111122202111011211000121202011\n",
      "2110211011010020101010010120122101212222021221000011010111101011111110001210210112022100010112002111010112002211101021100111201122012102002122100021002\n",
      "2021202102111010111111211100101111000111220011122202111011211101111121221011211020221112211020202012111020202101211120212012000201010111202001112021101\n",
      "1220022112012111011112001212110112122012012201201122012102001210111200011102002112210120102112121010012112122111001202200010220101111012021220120220211\n",
      "1012021020010012101120221000021020001010010101000201010111221011012022201211202020111100112020001111210020001012121022122211210110112110220010102212202\n",
      "1110221112211210110202211122021112221111211111120101111012011102110221101002021210011212020212220112011012221110001121001102011021020021212211112100121\n",
      "0121210120102011021122101201220120110112001111200110112110001212021210211101220011202000212200110020002110110121220201120211002121112020000101120112101\n",
      "2100011100111002120201111001010100021020220112022021020021221000220011201211012202021220200122021012202021021100012100202202102000120212222110200020111\n",
      "2112201212012102002100112121111112021112210020221221112020011120212202001002110121220012122101221110121221120212210110122122111222102200111021122010012\n",
      "2020101000010111202112020000111120220120111012210010120212201202200121221102021100012210001111010121100010202200111021101001012011112122012120201011210\n",
      "1210111122211012022020212222011202210100012110111211102200101022122100010211220212210111220112111100212211122122012120211121110001120001010002101102011\n",
      "1011011201102110221212200111002022111112210021012001212122111121001112211202012200111012010020011210200101201001010002201200121220202221111202110211002\n",
      "1102102000212021210000122012101221011120111021110221000001011201120120102021010122012110011012202011122111001121111202101022100012122110112022021202101\n",
      "0212111220200220011222101010111011101200012120121211122221102000200100111221111101010021202110121001201012120200112022111121112210001021020221220022111\n",
      "0200012012120212202011111111012101211022210000100001201110211220122112012010111211111020022021101121001110002122020221011200120111221121112210012021012\n",
      "0122210010002200121001111112110111002121111222112221000121202010101020010011012001112112021220210201120121202001212211102022100012010200120111210221110\n",
      "2101111211202122101120111120021012102000112011020111122100021011111112211202110220120020220012211100200100021221000101211221112210011122100012011210121\n",
      "2110112002022001110200011202021110111222020002110011201112021101111120102022021210102012212210101210122112020011122111002010120111201201112210002011101\n",
      "2021020201221220121122202021220121012011212202021202000120220210111200111221220011111010100111111011101020212201201012101011100012001000120111201001211\n",
      "1221112101010010100201121220010101110002000121220021222102212211012022012010012201112111112011112101211112200101001110111101212210221122100012001121002\n",
      "1010120111111211110100200012211110121201222100012020011112100102110221010011210100120011120001120111001120122111120121011211000111210201112210220201101\n",
      "1111100011112001121110122210101121100001011112210212201120112112021211111202011112102201202220200012120200101011200101102002122012011100120111212100211\n",
      "0111212201120220200121101111110200212221101120111200100200020020220001112021001120112101022112122210002122111102022110211202001010001212100012000110202\n",
      "2012000100202212122100210111121120200110210200012022110122012012212220120221120200020111121020001111202001011211221021202021221111221000112210222021121\n",
      "1010222110122100001110211011200202122021211122210221021101010010100110102210202122010011201112220112021221102002011120021220010112011122020111211220201\n",
      "1111211021101112220121202102020122001220001201111211120211111211112021112111122001011202000120110020220010211201001202020012211020001201210012002012101\n",
      "0112002120210120110100022111210101221012221000112001202201112001120220120011201221102021222100021012212211202001121021212210102112221001011210201010111\n",
      "2020202002211100021112021012011111011110111122020221022100120220202210102202001010211220011112021110100102021220201120000111112020111121102011101111012\n",
      "1212121202101212020120221110001112101121011201212211121112102212122111112121221111202012201120220121112111220012100202222011120210011200211001210112110\n",
      "1000000022111000210102210121220120110201102001000101200120112100001011120000010112021010100202210100120012012210110122111001202211202020202121011020021\n",
      "1122222021012120211112111100010100021100211221122111022100020112221101202222211020221111110122111112102210010111021101012121022102021212122001102112021\n",
      "0201111221110002201120011212211112020210202010201012121112010020110211022111102112210111121101011120112111211012120211110001121111220000001220212020221\n",
      "0100112010121202100202202000101120212211121011101110000120011010021202121011212020111011200211101200020012002110002201121220200112012222221012200212211\n"
     ]
    }
   ],
   "source": [
    "for s in range(len(print_eg_lattice)):\n",
    "    print(''.join(print_eg_lattice[s]))"
   ]
  },
  {
   "cell_type": "code",
   "execution_count": 45,
   "metadata": {},
   "outputs": [
    {
     "data": {
      "application/vnd.jupyter.widget-view+json": {
       "model_id": "ac3c17934866475aa56b1eb417b5de88",
       "version_major": 2,
       "version_minor": 0
      },
      "text/plain": [
       "interactive(children=(IntSlider(value=0, description='s', max=79), Output()), _dom_classes=('widget-interact',…"
      ]
     },
     "metadata": {},
     "output_type": "display_data"
    }
   ],
   "source": [
    "@interact(s=(0,len(print_eg_lattice)-1,1))\n",
    "def show_rule(s=0):\n",
    "    print(''.join(print_eg_lattice[s]))\n",
    "    return"
   ]
  },
  {
   "cell_type": "code",
   "execution_count": null,
   "metadata": {},
   "outputs": [],
   "source": []
  }
 ],
 "metadata": {
  "kernelspec": {
   "display_name": "Python 3 (ipykernel)",
   "language": "python",
   "name": "python3"
  },
  "language_info": {
   "codemirror_mode": {
    "name": "ipython",
    "version": 3
   },
   "file_extension": ".py",
   "mimetype": "text/x-python",
   "name": "python",
   "nbconvert_exporter": "python",
   "pygments_lexer": "ipython3",
   "version": "3.12.0"
  },
  "widgets": {
   "application/vnd.jupyter.widget-state+json": {
    "state": {
     "0b43b709968a4e1fb3ddc128b77efea4": {
      "model_module": "@jupyter-widgets/controls",
      "model_module_version": "2.0.0",
      "model_name": "SliderStyleModel",
      "state": {
       "description_width": ""
      }
     },
     "0e89c4280c864a63aafea5c18814ff04": {
      "model_module": "@jupyter-widgets/base",
      "model_module_version": "2.0.0",
      "model_name": "LayoutModel",
      "state": {}
     },
     "0f1f1885b308471e9838d32f1e727944": {
      "model_module": "@jupyter-widgets/output",
      "model_module_version": "1.0.0",
      "model_name": "OutputModel",
      "state": {
       "layout": "IPY_MODEL_4ead8d708009416e8d2df22ade3b4a1c",
       "outputs": [
        {
         "data": {
          "image/png": "iVBORw0KGgoAAAANSUhEUgAABKUAAAAfCAYAAAA2o35LAAAAOXRFWHRTb2Z0d2FyZQBNYXRwbG90bGliIHZlcnNpb24zLjcuMiwgaHR0cHM6Ly9tYXRwbG90bGliLm9yZy8pXeV/AAAACXBIWXMAAA9hAAAPYQGoP6dpAAABuklEQVR4nO3bsWkDURAE0C/jCpQodKBQoArUwlWrTgQXXi3rDsQXSOs5/B5c9hlm04E7VFUNAAAAAGj09dcFAAAAAPh/jFIAAAAAtDNKAQAAANDOKAUAAABAO6MUAAAAAO2MUgAAAAC0M0oBAAAA0M4oBQAAAEC779mHx+Nx3G636eDH4zGu1+vb3yZlJ3XZa3ZSF3dmZyd1cWd2dlIXd2Znv/r+fn+MMeazf372eafs7C7uzM5O6uLO7OykLu7Mzk7q8mr2tm1jXdfnj2rS6XSafVpVVcuyfORtUnZSl71mJ3VxZ3Z2Uhd3ZmcndXFndvar78dYaoya/vZ6p+zsLu7Mzk7q4s7s7KQu7szOTuryiWy/7wEAAADQzigFAAAAQDujFAAAAADtjFIAAAAAtDNKAQAAANDOKAUAAABAO6MUAAAAAO2MUgAAAAC0M0oBAAAA0M4oBQAAAEC7Q1XVzMPL5TLO5/On+wAAAACwc9u2jXVdn76ZHqUAAAAA4F38vgcAAABAO6MUAAAAAO2MUgAAAAC0M0oBAAAA0M4oBQAAAEA7oxQAAAAA7YxSAAAAALQzSgEAAADQ7hcQ/9jAxINIsAAAAABJRU5ErkJggg==",
          "text/plain": "<Figure size 1200x594.059 with 1 Axes>"
         },
         "metadata": {},
         "output_type": "display_data"
        }
       ]
      }
     },
     "10e1301d45444e2db5249e23e15063b1": {
      "model_module": "@jupyter-widgets/output",
      "model_module_version": "1.0.0",
      "model_name": "OutputModel",
      "state": {
       "layout": "IPY_MODEL_f4b6b82af78649418434efacc04a8b0d",
       "outputs": [
        {
         "data": {
          "image/png": "iVBORw0KGgoAAAANSUhEUgAABKUAAAAfCAYAAAA2o35LAAAAOXRFWHRTb2Z0d2FyZQBNYXRwbG90bGliIHZlcnNpb24zLjcuMiwgaHR0cHM6Ly9tYXRwbG90bGliLm9yZy8pXeV/AAAACXBIWXMAAA9hAAAPYQGoP6dpAAABIUlEQVR4nO3bMQ6DQAxEURNRbc/9D0i/rblBQhHNCvFe7WLqL3nr7i4AAAAACPqsHgAAAADA+4hSAAAAAMSJUgAAAADEiVIAAAAAxIlSAAAAAMSJUgAAAADEiVIAAAAAxIlSAAAAAMSJUgAAAADE7asHAAA8xXFUzfn9Zoyq88zsAQB4MlEKAOCmOX9HKQAA7vG+BwAAAECcKAUAAABAnCgFAAAAQJwoBQAAAECcKAUAAABAnCgFAAAAQJwoBQAAAEDcvnoAAMBTjPGfGwAAqrbu7tUjAAAAAHgX73sAAAAAxIlSAAAAAMSJUgAAAADEiVIAAAAAxIlSAAAAAMSJUgAAAADEiVIAAAAAxIlSAAAAAMSJUgAAAADEiVIAAAAAxF3f/BA7sD/XXAAAAABJRU5ErkJggg==",
          "text/plain": "<Figure size 1200x594.059 with 1 Axes>"
         },
         "metadata": {},
         "output_type": "display_data"
        }
       ]
      }
     },
     "18aece4b4987498b9c93371a1d5e3dab": {
      "model_module": "@jupyter-widgets/controls",
      "model_module_version": "2.0.0",
      "model_name": "IntSliderModel",
      "state": {
       "behavior": "drag-tap",
       "description": "s",
       "layout": "IPY_MODEL_671a65f0cac64e829583f761402771de",
       "max": 49,
       "style": "IPY_MODEL_8c9c03e7a4b5484bb5e0f15727feaba9"
      }
     },
     "1bdbbb01e77840e2ac5e38f9e0cb2736": {
      "model_module": "@jupyter-widgets/controls",
      "model_module_version": "2.0.0",
      "model_name": "SliderStyleModel",
      "state": {
       "description_width": ""
      }
     },
     "225de50fe5c140208aa82b4f159d4f02": {
      "model_module": "@jupyter-widgets/base",
      "model_module_version": "2.0.0",
      "model_name": "LayoutModel",
      "state": {}
     },
     "257fae7ef65642b780769b5e0b81e322": {
      "model_module": "@jupyter-widgets/controls",
      "model_module_version": "2.0.0",
      "model_name": "VBoxModel",
      "state": {
       "_dom_classes": [
        "widget-interact"
       ],
       "children": [
        "IPY_MODEL_3c7dac733ad848b8a8d5d789c90309d6",
        "IPY_MODEL_7deeda01c82d490b8310542489ca311d"
       ],
       "layout": "IPY_MODEL_7ae0360523694190a00b28043924af61"
      }
     },
     "2b90eac4bcac498499bfc3ca67394a1e": {
      "model_module": "@jupyter-widgets/base",
      "model_module_version": "2.0.0",
      "model_name": "LayoutModel",
      "state": {}
     },
     "306ba28ca99f493a8cf1f9b655e3f59d": {
      "model_module": "@jupyter-widgets/base",
      "model_module_version": "2.0.0",
      "model_name": "LayoutModel",
      "state": {}
     },
     "340c4dd8e6024e93b3964cc4c8b62208": {
      "model_module": "@jupyter-widgets/controls",
      "model_module_version": "2.0.0",
      "model_name": "IntSliderModel",
      "state": {
       "behavior": "drag-tap",
       "description": "s",
       "layout": "IPY_MODEL_374fb4b6efda42128a236183cac1462c",
       "max": 49,
       "style": "IPY_MODEL_99c38a083fb24a61acfaf702159ee605"
      }
     },
     "374fb4b6efda42128a236183cac1462c": {
      "model_module": "@jupyter-widgets/base",
      "model_module_version": "2.0.0",
      "model_name": "LayoutModel",
      "state": {}
     },
     "39b5a4478ad54f1fbd85a7f4e78c9278": {
      "model_module": "@jupyter-widgets/base",
      "model_module_version": "2.0.0",
      "model_name": "LayoutModel",
      "state": {}
     },
     "3c7dac733ad848b8a8d5d789c90309d6": {
      "model_module": "@jupyter-widgets/controls",
      "model_module_version": "2.0.0",
      "model_name": "IntSliderModel",
      "state": {
       "behavior": "drag-tap",
       "description": "s",
       "layout": "IPY_MODEL_78282e6a495f48c792ccbddca5f4c616",
       "max": 49,
       "style": "IPY_MODEL_0b43b709968a4e1fb3ddc128b77efea4",
       "value": 10
      }
     },
     "43f40180e1d6476b853fa72f36632c72": {
      "model_module": "@jupyter-widgets/controls",
      "model_module_version": "2.0.0",
      "model_name": "VBoxModel",
      "state": {
       "_dom_classes": [
        "widget-interact"
       ],
       "children": [
        "IPY_MODEL_461d049e6aa14ad98310b0cb2106e323",
        "IPY_MODEL_8f89f9c3b6e84e7a843fa7f53d4aba9e"
       ],
       "layout": "IPY_MODEL_f3d47afc10f24ebb9616651462eb8a83"
      }
     },
     "4520ae7111a14864b0ef41bb2014c0aa": {
      "model_module": "@jupyter-widgets/base",
      "model_module_version": "2.0.0",
      "model_name": "LayoutModel",
      "state": {}
     },
     "45b71a3cf2f64e6d83e0b6ce4aa94a7a": {
      "model_module": "@jupyter-widgets/controls",
      "model_module_version": "2.0.0",
      "model_name": "VBoxModel",
      "state": {
       "_dom_classes": [
        "widget-interact"
       ],
       "children": [
        "IPY_MODEL_fc284232f13049dbae860ecaf666320f",
        "IPY_MODEL_9fcd5906e0024a1cb8bcdbcee5c4c7a5"
       ],
       "layout": "IPY_MODEL_39b5a4478ad54f1fbd85a7f4e78c9278"
      }
     },
     "461d049e6aa14ad98310b0cb2106e323": {
      "model_module": "@jupyter-widgets/controls",
      "model_module_version": "2.0.0",
      "model_name": "IntSliderModel",
      "state": {
       "behavior": "drag-tap",
       "description": "s",
       "layout": "IPY_MODEL_67c4ad377c1d48d7a5cfd28f521d21b8",
       "max": 49,
       "style": "IPY_MODEL_677b1b22770940ed88a5eca21fb2551a",
       "value": 29
      }
     },
     "4944fa8fd1b3414187d29a753633dd16": {
      "model_module": "@jupyter-widgets/controls",
      "model_module_version": "2.0.0",
      "model_name": "VBoxModel",
      "state": {
       "_dom_classes": [
        "widget-interact"
       ],
       "children": [
        "IPY_MODEL_340c4dd8e6024e93b3964cc4c8b62208",
        "IPY_MODEL_da78eaf381bc4109a426f3857458e0ae"
       ],
       "layout": "IPY_MODEL_5639591a95824704864cfdbbcaee089a"
      }
     },
     "49e7499cea4f49d8976eecacaceab53d": {
      "model_module": "@jupyter-widgets/base",
      "model_module_version": "2.0.0",
      "model_name": "LayoutModel",
      "state": {}
     },
     "49feeb95213e4a0c802c503cb90af378": {
      "model_module": "@jupyter-widgets/base",
      "model_module_version": "2.0.0",
      "model_name": "LayoutModel",
      "state": {}
     },
     "4baa382206d54f018c042aec8ab56d29": {
      "model_module": "@jupyter-widgets/base",
      "model_module_version": "2.0.0",
      "model_name": "LayoutModel",
      "state": {}
     },
     "4ead8d708009416e8d2df22ade3b4a1c": {
      "model_module": "@jupyter-widgets/base",
      "model_module_version": "2.0.0",
      "model_name": "LayoutModel",
      "state": {}
     },
     "518d83d59223470fa14bff0b0c71bb54": {
      "model_module": "@jupyter-widgets/base",
      "model_module_version": "2.0.0",
      "model_name": "LayoutModel",
      "state": {}
     },
     "5639591a95824704864cfdbbcaee089a": {
      "model_module": "@jupyter-widgets/base",
      "model_module_version": "2.0.0",
      "model_name": "LayoutModel",
      "state": {}
     },
     "5c46ca46251249c5bd5b4d2641b11070": {
      "model_module": "@jupyter-widgets/controls",
      "model_module_version": "2.0.0",
      "model_name": "VBoxModel",
      "state": {
       "_dom_classes": [
        "widget-interact"
       ],
       "children": [
        "IPY_MODEL_7d3506fc52214074a72814cc1909b8f1",
        "IPY_MODEL_7bf4645f783d4f0f82679b23090a7cfd"
       ],
       "layout": "IPY_MODEL_a28efd9b2da64f81a47bcb1de69b48f5"
      }
     },
     "632346a617d74afbb1575875f748dc30": {
      "model_module": "@jupyter-widgets/base",
      "model_module_version": "2.0.0",
      "model_name": "LayoutModel",
      "state": {}
     },
     "645eab5db2c04029ac4725067e9c6e31": {
      "model_module": "@jupyter-widgets/controls",
      "model_module_version": "2.0.0",
      "model_name": "VBoxModel",
      "state": {
       "_dom_classes": [
        "widget-interact"
       ],
       "children": [
        "IPY_MODEL_88c1a298e64f4b788295bfa85f3716be",
        "IPY_MODEL_10e1301d45444e2db5249e23e15063b1"
       ],
       "layout": "IPY_MODEL_2b90eac4bcac498499bfc3ca67394a1e"
      }
     },
     "671a65f0cac64e829583f761402771de": {
      "model_module": "@jupyter-widgets/base",
      "model_module_version": "2.0.0",
      "model_name": "LayoutModel",
      "state": {}
     },
     "677b1b22770940ed88a5eca21fb2551a": {
      "model_module": "@jupyter-widgets/controls",
      "model_module_version": "2.0.0",
      "model_name": "SliderStyleModel",
      "state": {
       "description_width": ""
      }
     },
     "67c4ad377c1d48d7a5cfd28f521d21b8": {
      "model_module": "@jupyter-widgets/base",
      "model_module_version": "2.0.0",
      "model_name": "LayoutModel",
      "state": {}
     },
     "78282e6a495f48c792ccbddca5f4c616": {
      "model_module": "@jupyter-widgets/base",
      "model_module_version": "2.0.0",
      "model_name": "LayoutModel",
      "state": {}
     },
     "7ae0360523694190a00b28043924af61": {
      "model_module": "@jupyter-widgets/base",
      "model_module_version": "2.0.0",
      "model_name": "LayoutModel",
      "state": {}
     },
     "7bf4645f783d4f0f82679b23090a7cfd": {
      "model_module": "@jupyter-widgets/output",
      "model_module_version": "1.0.0",
      "model_name": "OutputModel",
      "state": {
       "layout": "IPY_MODEL_49e7499cea4f49d8976eecacaceab53d",
       "outputs": [
        {
         "data": {
          "image/png": "iVBORw0KGgoAAAANSUhEUgAABKUAAAAfCAYAAAA2o35LAAAAOXRFWHRTb2Z0d2FyZQBNYXRwbG90bGliIHZlcnNpb24zLjcuMiwgaHR0cHM6Ly9tYXRwbG90bGliLm9yZy8pXeV/AAAACXBIWXMAAA9hAAAPYQGoP6dpAAACzklEQVR4nO3cMU4rMRAG4OEJaducAIooHR1X4AQclEvkCnSrLXKDtFstBe91T2AHbMbk+5o0o9nfXksOI5Gbbdu2AAAAAICO/vx0AAAAAACuj6EUAAAAAN0ZSgEAAADQnaEUAAAAAN0ZSgEAAADQnaEUAAAAAN0ZSgEAAADQ3W1J0fl8jmVZYpqm1nkAAAAAGNi6rrHf72O3231YVzSUWpYljsdjPD09FT18nueIiDgcDt9am6l3piyj9s6UZZ7neH6OiCjrHTH//Syvf3lpt87y7OU5arP0OCst11nT+52z8pXe775/Ty7Jkql3xHh7nu0c1mYprb/knsixh/VZMq2ztL5l7h5Z3v3+O6i0fvSzci13UGm9++1nspTWX9PfeyP2zpSltvfxeIyIiMfHxw/rioZS0zTF/f19PDw8FD38n5r6UXtnyjJq71xZ6nrX1B8ObddZmqU2R22W1mel5Trr3r+z8pXetbUts2TrPeqej7yHre6JLHt4SZZM68ySu2WW+vo8Z2Xc7xTuoP92TvQ+f/v91iNLlt6ZsozaO1OW0tp5nov+285vSgEAAADQnaEUAAAAAN0ZSgEAAADQnaEUAAAAAN0ZSgEAAADQnaEUAAAAAN0ZSgEAAADQnaEUAAAAAN0ZSgEAAADQ3W1J0bqucTqd4vX1tajpPM/FAWpqM/XOlGXU3pmy1PaOqK8vfUTbPS/PUds701lpuc5L3n1t/W8/Ky335JIsY/bOs+fjnsP290SOPWybJcs6W+bukaVN7WX1I77PUc/KuL3zvM9Rz3imLJm+w+udO0tt79PpFHd3d5/W3Wzbtn1WdD6fY1mWmKapKgQAAAAA12Vd19jv97Hb7T6sKxpKAQAAAMB38ptSAAAAAHRnKAUAAABAd4ZSAAAAAHRnKAUAAABAd4ZSAAAAAHRnKAUAAABAd4ZSAAAAAHRnKAUAAABAd28K9XAle1utYAAAAABJRU5ErkJggg==",
          "text/plain": "<Figure size 1200x594.059 with 1 Axes>"
         },
         "metadata": {},
         "output_type": "display_data"
        }
       ]
      }
     },
     "7d3506fc52214074a72814cc1909b8f1": {
      "model_module": "@jupyter-widgets/controls",
      "model_module_version": "2.0.0",
      "model_name": "IntSliderModel",
      "state": {
       "behavior": "drag-tap",
       "description": "s",
       "layout": "IPY_MODEL_632346a617d74afbb1575875f748dc30",
       "max": 49,
       "style": "IPY_MODEL_81bf9b63853c47be8ce32de08458b062",
       "value": 34
      }
     },
     "7deeda01c82d490b8310542489ca311d": {
      "model_module": "@jupyter-widgets/output",
      "model_module_version": "1.0.0",
      "model_name": "OutputModel",
      "state": {
       "layout": "IPY_MODEL_306ba28ca99f493a8cf1f9b655e3f59d",
       "outputs": [
        {
         "data": {
          "image/png": "iVBORw0KGgoAAAANSUhEUgAABKUAAAAfCAYAAAA2o35LAAAAOXRFWHRTb2Z0d2FyZQBNYXRwbG90bGliIHZlcnNpb24zLjcuMiwgaHR0cHM6Ly9tYXRwbG90bGliLm9yZy8pXeV/AAAACXBIWXMAAA9hAAAPYQGoP6dpAAACMklEQVR4nO3bsU5CQRAF0MFYbQ01//9Z1FC/9lmZaDQ8FtxhFs+pTJxc7sgjxkncreu6BgAAAAAkent2AQAAAAD+H0cpAAAAANI5SgEAAACQzlEKAAAAgHSOUgAAAACkc5QCAAAAIJ2jFAAAAADpHKUAAAAASOcoBQAAAEC6957h4/EYl8vl6kxrLc7nc0REHA6HWJblT2YrZVfqMmt2pS72rJ1dqYs9a2dX6vJ1NuIQEdezI1pE3Dc/cs/tLrf36O2S+ayM3LMne/SzMuuez33G87pU+ky86p5+hq/VZdbsSl3sWTu7Upfe7P1+H6fT6erMp66j1LIsmy9+7/ys2ZW6zJpdqYs9a2dX6mLP2tm1uiyx/Ufv/fMj9+zpMu/7EzFyz773c+yzMuueVZ7x0V2qZFfqMmt2pS72rJ1dqYs9a2dX6nLLbM9r+/c9AAAAANI5SgEAAACQzlEKAAAAgHSOUgAAAACkc5QCAAAAIJ2jFAAAAADpHKUAAAAASPfeM9xai9ba5sxvXz86Wym7UpdZsyt1sWft7Epd7Fk7u1KX79/fzv4+0zc/cs/tLnO+Pz9nxu3Zkz36WZl1z+c+43ldKn0mXnVPP8PX6jJrdqUu9qydXanLY79rr9ut67rePA0AAAAAf8C/7wEAAACQzlEKAAAAgHSOUgAAAACkc5QCAAAAIJ2jFAAAAADpHKUAAAAASOcoBQAAAEA6RykAAAAA0jlKAQAAAJDOUQoAAACAdB8SfW93xGc3LwAAAABJRU5ErkJggg==",
          "text/plain": "<Figure size 1200x594.059 with 1 Axes>"
         },
         "metadata": {},
         "output_type": "display_data"
        }
       ]
      }
     },
     "81bf9b63853c47be8ce32de08458b062": {
      "model_module": "@jupyter-widgets/controls",
      "model_module_version": "2.0.0",
      "model_name": "SliderStyleModel",
      "state": {
       "description_width": ""
      }
     },
     "88c1a298e64f4b788295bfa85f3716be": {
      "model_module": "@jupyter-widgets/controls",
      "model_module_version": "2.0.0",
      "model_name": "IntSliderModel",
      "state": {
       "behavior": "drag-tap",
       "description": "s",
       "layout": "IPY_MODEL_518d83d59223470fa14bff0b0c71bb54",
       "max": 49,
       "style": "IPY_MODEL_9963edfe6237436abfb09f9bf59bee88"
      }
     },
     "8c9c03e7a4b5484bb5e0f15727feaba9": {
      "model_module": "@jupyter-widgets/controls",
      "model_module_version": "2.0.0",
      "model_name": "SliderStyleModel",
      "state": {
       "description_width": ""
      }
     },
     "8f89f9c3b6e84e7a843fa7f53d4aba9e": {
      "model_module": "@jupyter-widgets/output",
      "model_module_version": "1.0.0",
      "model_name": "OutputModel",
      "state": {
       "layout": "IPY_MODEL_4520ae7111a14864b0ef41bb2014c0aa",
       "outputs": [
        {
         "data": {
          "image/png": "iVBORw0KGgoAAAANSUhEUgAABKUAAAAfCAYAAAA2o35LAAAAOXRFWHRTb2Z0d2FyZQBNYXRwbG90bGliIHZlcnNpb24zLjcuMiwgaHR0cHM6Ly9tYXRwbG90bGliLm9yZy8pXeV/AAAACXBIWXMAAA9hAAAPYQGoP6dpAAACA0lEQVR4nO3bMUoEQRAF0FrxHgZmK3gTvat4BU+wMOGCmZlXaBNjnQK7rGbeg83Kprq3a0Y+7GmMMQIAAAAACt38dwMAAAAAHI9QCgAAAIByQikAAAAAygmlAAAAACgnlAIAAACgnFAKAAAAgHJCKQAAAADKCaUAAAAAKHe7t/DzdIq3xMKPEXGZUNtp7U69rLp2p16Oss/nu+8/2Ouyv/79Ndf3zF5Stcn6TvvM9tLlrmS/n5n7zM5b5lyOclc6PbM6zUSml6nzlqxf9QxnznJE9HlPTPzus/WdniudzrDL7Hd6B808w1X/J+/Ui332XrtTL+ln8/kcsW0/F42dPiJGJD4vk2o7rd2pl1XX7tTLUfY5nmKMkfgk6rN9z+zlKPtc9a5k1+40b+5K72fWqr1MnbdGd2XmGa48b13eb53uyspn2GX2O81Ep9nvsnanXuyz99qdesk/V57Gb/x8DwAAAIByQikAAAAAygmlAAAAACgnlAIAAACgnFAKAAAAgHJCKQAAAADKCaUAAAAAKCeUAgAAAKCcUAoAAACAckIpAAAAAMqdxhhjV+XDQ8T9/eR2AAAAAFje9RqxbT+W7A+lAAAAAOCP+PkeAAAAAOWEUgAAAACUE0oBAAAAUE4oBQAAAEA5oRQAAAAA5YRSAAAAAJQTSgEAAABQTigFAAAAQLkvh8mHN5+rRc0AAAAASUVORK5CYII=",
          "text/plain": "<Figure size 1200x594.059 with 1 Axes>"
         },
         "metadata": {},
         "output_type": "display_data"
        }
       ]
      }
     },
     "9963edfe6237436abfb09f9bf59bee88": {
      "model_module": "@jupyter-widgets/controls",
      "model_module_version": "2.0.0",
      "model_name": "SliderStyleModel",
      "state": {
       "description_width": ""
      }
     },
     "99c38a083fb24a61acfaf702159ee605": {
      "model_module": "@jupyter-widgets/controls",
      "model_module_version": "2.0.0",
      "model_name": "SliderStyleModel",
      "state": {
       "description_width": ""
      }
     },
     "9fcd5906e0024a1cb8bcdbcee5c4c7a5": {
      "model_module": "@jupyter-widgets/output",
      "model_module_version": "1.0.0",
      "model_name": "OutputModel",
      "state": {
       "layout": "IPY_MODEL_4baa382206d54f018c042aec8ab56d29",
       "outputs": [
        {
         "data": {
          "image/png": "iVBORw0KGgoAAAANSUhEUgAABKUAAAAfCAYAAAA2o35LAAAAOXRFWHRTb2Z0d2FyZQBNYXRwbG90bGliIHZlcnNpb24zLjcuMiwgaHR0cHM6Ly9tYXRwbG90bGliLm9yZy8pXeV/AAAACXBIWXMAAA9hAAAPYQGoP6dpAAAB0UlEQVR4nO3bwY3CQAwF0GG19aQUek0PVEAF3LjRgrcEMoKYn+U9iZtl2ZkRoC84VVUNAAAAAGj08+kBAAAAAPg+QikAAAAA2gmlAAAAAGgnlAIAAACgnVAKAAAAgHZCKQAAAADaCaUAAAAAaCeUAgAAAKDd79bCx+MxLpfL5sbLsozr9fr22qTeSbMctXfSLPbM7p00iz1frz+flzHG9t5jzNXfbimz5Ow5e55zzyXnfGZ6j7Hvvc25h7P1+/VOOp+jPsMjv6+kfAb5HP9fsxy1d9Is9szunTTL/PfJ8/Oi2uh+v9cYY/NrXdddapN6J81y1N5Js9gzu3fSLPZ8vb5qraox8Zqrz5klZ8/Z89xzzz3PJ+ne5tzDnHubdD5HfYZHfl/5ht5Js9gzu3fSLPbM7p00y/z3yef8fQ8AAACAdkIpAAAAANoJpQAAAABoJ5QCAAAAoJ1QCgAAAIB2QikAAAAA2gmlAAAAAGgnlAIAAACgnVAKAAAAgHZCKQAAAADanaqqPj0EAAAAAN/FL6UAAAAAaCeUAgAAAKCdUAoAAACAdkIpAAAAANoJpQAAAABoJ5QCAAAAoJ1QCgAAAIB2QikAAAAA2gmlAAAAAGj3B1iDq4AuPSBxAAAAAElFTkSuQmCC",
          "text/plain": "<Figure size 1200x594.059 with 1 Axes>"
         },
         "metadata": {},
         "output_type": "display_data"
        }
       ]
      }
     },
     "a28efd9b2da64f81a47bcb1de69b48f5": {
      "model_module": "@jupyter-widgets/base",
      "model_module_version": "2.0.0",
      "model_name": "LayoutModel",
      "state": {}
     },
     "da78eaf381bc4109a426f3857458e0ae": {
      "model_module": "@jupyter-widgets/output",
      "model_module_version": "1.0.0",
      "model_name": "OutputModel",
      "state": {
       "layout": "IPY_MODEL_49feeb95213e4a0c802c503cb90af378",
       "outputs": [
        {
         "data": {
          "image/png": "iVBORw0KGgoAAAANSUhEUgAABKUAAAAfCAYAAAA2o35LAAAAOXRFWHRTb2Z0d2FyZQBNYXRwbG90bGliIHZlcnNpb24zLjcuMiwgaHR0cHM6Ly9tYXRwbG90bGliLm9yZy8pXeV/AAAACXBIWXMAAA9hAAAPYQGoP6dpAAACbklEQVR4nO3csW7bQBAE0KHgimwFqff/f5N7CmypUpcqhgJEZhwrl2XyXkWAh9FsuzhqaK21AAAAAEBHh79dAAAAAID/j6UUAAAAAN1ZSgEAAADQnaUUAAAAAN1ZSgEAAADQnaUUAAAAAN29bB243W5ZliVJMo5jhmH446UAAAAA2J/WWq7Xa5LkeDzmcHh8H2pzKbUsS87n8/PaAQAAAPDPm+c5p9Pp4Xuf7wEAAADQ3eZNqXEc35/f3t4+3HAlybqu7zer5nnONE1POVspu1KXvWZX6mLO2tmVupizdnalLuasnf2VLsmc5OPsZE2y7zll1+tiztrZlbqYs3Z2pS7mrJ1dqctnsy+XS15fX5P8uFP6mc2l1P1/SE3TtPnj9z5zfq/ZlbrsNbtSF3PWzq7UxZy1syt1MWft7M+fn7K9lPq97Epzyq7dxZy1syt1MWft7EpdzFk7u1KXXzl7/37rf8l9vgcAAABAd5ZSAAAAAHRnKQUAAABAd5ZSAAAAAHRnKQUAAABAd5ZSAAAAAHRnKQUAAABAdy9bB1pr78/rumZd1w/P379/5tlK2ZW67DW7Uhdz1s6u1MWctbMrdTFn7eyvdEm2s+/P7HVO2fW6mLN2dqUu5qydXamLOWtnV+rylez7ndLPDG3jxOVyyfl83vxRAAAAAPhunuecTqeH732+BwAAAEB3mzelbrdblmVJkozjmGEYuhQDAAAAYF9aa7ler0mS4/GYw+HxfajNpRQAAAAAPJvP9wAAAADozlIKAAAAgO4spQAAAADozlIKAAAAgO4spQAAAADozlIKAAAAgO4spQAAAADo7huIzfGz7fS0igAAAABJRU5ErkJggg==",
          "text/plain": "<Figure size 1200x594.059 with 1 Axes>"
         },
         "metadata": {},
         "output_type": "display_data"
        }
       ]
      }
     },
     "f3d47afc10f24ebb9616651462eb8a83": {
      "model_module": "@jupyter-widgets/base",
      "model_module_version": "2.0.0",
      "model_name": "LayoutModel",
      "state": {}
     },
     "f4b6b82af78649418434efacc04a8b0d": {
      "model_module": "@jupyter-widgets/base",
      "model_module_version": "2.0.0",
      "model_name": "LayoutModel",
      "state": {}
     },
     "fc284232f13049dbae860ecaf666320f": {
      "model_module": "@jupyter-widgets/controls",
      "model_module_version": "2.0.0",
      "model_name": "IntSliderModel",
      "state": {
       "behavior": "drag-tap",
       "description": "s",
       "layout": "IPY_MODEL_0e89c4280c864a63aafea5c18814ff04",
       "max": 49,
       "style": "IPY_MODEL_1bdbbb01e77840e2ac5e38f9e0cb2736",
       "value": 15
      }
     },
     "fd85ab0fba6944c987c8c236536ef22b": {
      "model_module": "@jupyter-widgets/controls",
      "model_module_version": "2.0.0",
      "model_name": "VBoxModel",
      "state": {
       "_dom_classes": [
        "widget-interact"
       ],
       "children": [
        "IPY_MODEL_18aece4b4987498b9c93371a1d5e3dab",
        "IPY_MODEL_0f1f1885b308471e9838d32f1e727944"
       ],
       "layout": "IPY_MODEL_225de50fe5c140208aa82b4f159d4f02"
      }
     }
    },
    "version_major": 2,
    "version_minor": 0
   }
  }
 },
 "nbformat": 4,
 "nbformat_minor": 4
}
