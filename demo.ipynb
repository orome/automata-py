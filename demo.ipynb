{
 "cells": [
  {
   "cell_type": "code",
   "execution_count": 2,
   "metadata": {},
   "outputs": [],
   "source": [
    "#!pip install -U ipykernel ipython jupyter jupyterlab jupyterlab-git \n",
    "#!pip install -U ipywidgets\n",
    "from ipywidgets import interact, interactive, fixed, interact_manual\n",
    "import ipywidgets as widgets"
   ]
  },
  {
   "cell_type": "code",
   "execution_count": 3,
   "metadata": {},
   "outputs": [],
   "source": [
    "from machine import *"
   ]
  },
  {
   "cell_type": "code",
   "execution_count": 4,
   "metadata": {},
   "outputs": [],
   "source": [
    "# Alternating 1s and 0s with blanks (Petzold p. 81, Turing p. 233))\n",
    "alternate = {\n",
    "    'b':\n",
    "        {E: (['0', R], 'c')},\n",
    "    'c':\n",
    "        {E: Behavior([R], 'e')},\n",
    "    'e':\n",
    "        {E: (['1', R], 'f')},\n",
    "    'f':\n",
    "        {E: ([R], 'b')}\n",
    "}\n",
    "alternate_machine = TuringMachine('b', alternate)"
   ]
  },
  {
   "cell_type": "code",
   "execution_count": 5,
   "metadata": {},
   "outputs": [],
   "source": [
    "# Alternating 1s and 0s with blanks and allowing multiple operations (Petzold p. 84, Turing p. 234)\n",
    "alternate_compact = {\n",
    "    'b':\n",
    "        {E: (['0'], 'b'),\n",
    "         '0': ([R, R, '1'], 'b'),\n",
    "         '1': ([R, R, '0'], 'b')}\n",
    "}\n",
    "alternate_compact_machine = TuringMachine('b', alternate_compact)"
   ]
  },
  {
   "cell_type": "code",
   "execution_count": 6,
   "metadata": {},
   "outputs": [],
   "source": [
    "# Alternating 1s and 0s with blanks, in standard form (Petzold p. 139, Turing p. 241))\n",
    "alternate_standard = {\n",
    "    'b':\n",
    "        {E: (['0', R], 'c')},\n",
    "    'c':\n",
    "        {E: ([E, R], 'e')},\n",
    "    'e':\n",
    "        {E: (['1', R], 'f')},\n",
    "    'f':\n",
    "        {E: ([E, R], 'b')}\n",
    "}\n",
    "alternate_standard_machine = TuringMachine('b', alternate_standard)"
   ]
  },
  {
   "cell_type": "code",
   "execution_count": 7,
   "metadata": {},
   "outputs": [],
   "source": [
    "# Binary increment (https://turingmachine.io)\n",
    "increment = {\n",
    "    'r':\n",
    "        {E: ([L], 'c', \"Scanning complete: backup and enter c\"),\n",
    "         ('0', '1'): ([R], 'r', \"Scan to the rightmost digit...\")},\n",
    "    'c':\n",
    "        {(E, '0'): (['1', L], 'd', \"Done: complete carry and enter d\"),\n",
    "         '1': (['0', L], 'c', \"Carry...\")}\n",
    "}\n",
    "increment_machine = TuringMachine('r', increment, initial_tape='1011101111111')"
   ]
  },
  {
   "cell_type": "code",
   "execution_count": 8,
   "metadata": {},
   "outputs": [],
   "source": [
    "increasing = {\n",
    "    'b':\n",
    "        {E: (['ə', R, 'ə', R, '0', R, R, '0', L, L], 'o', \"Initialize\")},\n",
    "    'o':\n",
    "        {'1': ([R, 'x', L, L, L], 'o', \"Mark a block of consecutive 1s...\"),\n",
    "         '0': ([], 'q', \"Done marking 1s\")},\n",
    "    'q':\n",
    "        {('0', '1'): ([R, R], 'q', \"Scan right along written F squares...\"), \n",
    "         E: (['1', L], 'p', \"Write a 1 and move to the preceding E square\")},\n",
    "    'p':\n",
    "        {'x': ([E, R], 'q'),\n",
    "         'ə': ([R], 'f'),\n",
    "         E: ([L, L], 'p')},\n",
    "    'f':\n",
    "        {('0', '1'): ([R, R], 'f', \"Scan right along written F squares...\"), \n",
    "         E: (['0', L, L], 'o', \"Write a 0 and move to the preceding F square\")},\n",
    "}\n",
    "increasing_machine = TuringMachine('b', increasing, initial_tape=E)"
   ]
  },
  {
   "cell_type": "code",
   "execution_count": 9,
   "metadata": {},
   "outputs": [],
   "source": [
    "alt_steps = [step.display_text() for step in alternate_machine.steps(100)]"
   ]
  },
  {
   "cell_type": "code",
   "execution_count": 10,
   "metadata": {},
   "outputs": [
    {
     "data": {
      "application/vnd.jupyter.widget-view+json": {
       "model_id": "8c796741407e496f93483472e23ecdf0",
       "version_major": 2,
       "version_minor": 0
      },
      "text/plain": [
       "interactive(children=(IntSlider(value=0, description='s', max=99), Output()), _dom_classes=('widget-interact',…"
      ]
     },
     "metadata": {},
     "output_type": "display_data"
    }
   ],
   "source": [
    "@interact(s=(0,99,1))\n",
    "def show_alt_step(s=0):\n",
    "    print(alt_steps[s])\n",
    "    return"
   ]
  },
  {
   "cell_type": "code",
   "execution_count": 11,
   "metadata": {},
   "outputs": [],
   "source": [
    "add_steps = [step.display_text(show_comments=True, show_behavior=True) for step in increment_machine.steps(100)]"
   ]
  },
  {
   "cell_type": "code",
   "execution_count": 12,
   "metadata": {},
   "outputs": [
    {
     "data": {
      "application/vnd.jupyter.widget-view+json": {
       "model_id": "cbc0aa71f9a5489a9017b7d25e2341c8",
       "version_major": 2,
       "version_minor": 0
      },
      "text/plain": [
       "interactive(children=(IntSlider(value=0, description='s', max=99), Output()), _dom_classes=('widget-interact',…"
      ]
     },
     "metadata": {},
     "output_type": "display_data"
    }
   ],
   "source": [
    "@interact(s=(0,99,1))\n",
    "def show_add_step(s=0):\n",
    "    print(add_steps[s])\n",
    "    return"
   ]
  },
  {
   "cell_type": "code",
   "execution_count": 13,
   "metadata": {},
   "outputs": [],
   "source": [
    "inc_steps = [step.display_text(symbol_highlight=\"\\u001b[47m\\u001b[30;1m{}\\u001b[0m\",\n",
    "                               m_config_highlight=\"\\u001b[30;1m{}\\u001b[0m\", \n",
    "                               show_step=True, # step_pad=(5,'0'),\n",
    "                               annotations_highlight=\"\\u001b[37;2m{}\\u001b[0m\",\n",
    "                               show_comments=True, show_behavior=True) \n",
    "             for step in increasing_machine.steps(1000)]"
   ]
  },
  {
   "cell_type": "code",
   "execution_count": 14,
   "metadata": {},
   "outputs": [
    {
     "data": {
      "application/vnd.jupyter.widget-view+json": {
       "model_id": "a0fe1457f77f4b92856fbb81a0ae5d27",
       "version_major": 2,
       "version_minor": 0
      },
      "text/plain": [
       "interactive(children=(IntSlider(value=0, description='s', max=999), Output()), _dom_classes=('widget-interact'…"
      ]
     },
     "metadata": {},
     "output_type": "display_data"
    }
   ],
   "source": [
    "@interact(s=(0,999,1))\n",
    "def show_inc_step(s=0):\n",
    "    print(inc_steps[s])\n",
    "    return"
   ]
  },
  {
   "cell_type": "code",
   "execution_count": 14,
   "metadata": {},
   "outputs": [],
   "source": [
    "# https://stackoverflow.com/q/63163551/656912"
   ]
  },
  {
   "cell_type": "code",
   "execution_count": null,
   "metadata": {},
   "outputs": [],
   "source": [
    "increa"
   ]
  }
 ],
 "metadata": {
  "kernelspec": {
   "display_name": "automata (Python 3, venv)",
   "language": "python",
   "name": "automata_env"
  },
  "language_info": {
   "codemirror_mode": {
    "name": "ipython",
    "version": 3
   },
   "file_extension": ".py",
   "mimetype": "text/x-python",
   "name": "python",
   "nbconvert_exporter": "python",
   "pygments_lexer": "ipython3",
   "version": "3.9.1"
  },
  "widgets": {
   "application/vnd.jupyter.widget-state+json": {
    "state": {
     "056e5d6fac8944408c526bc13a023d38": {
      "model_module": "@jupyter-widgets/base",
      "model_module_version": "1.2.0",
      "model_name": "LayoutModel",
      "state": {}
     },
     "085490e3fdb9404e8f86e3c4bb9cec46": {
      "model_module": "@jupyter-widgets/base",
      "model_module_version": "1.2.0",
      "model_name": "LayoutModel",
      "state": {}
     },
     "0cc448b2e4e94fb59765661eb49485e3": {
      "model_module": "@jupyter-widgets/output",
      "model_module_version": "1.0.0",
      "model_name": "OutputModel",
      "state": {
       "layout": "IPY_MODEL_c0ce7450661241ca86aff8cfafd07954",
       "outputs": [
        {
         "name": "stdout",
         "output_type": "stream",
         "text": "        \u001b[37;2m527\u001b[0m\nəə0 0 1 \u001b[47m\u001b[30;1m0\u001b[0m 1 1 0 1 1 1 0 1 1 1 1 0 1 1 1 1 1 0 1 1 1 1 1 1 0 1 1 1 1 1 1 1\n        \u001b[30;1mf\u001b[0m\u001b[37;2m  →  R,R | f  (Scan right along written F squares...)\u001b[0m\n"
        }
       ]
      }
     },
     "2b6f6ecb2cf341a3bd9d26646b76105a": {
      "model_module": "@jupyter-widgets/controls",
      "model_module_version": "1.5.0",
      "model_name": "SliderStyleModel",
      "state": {
       "description_width": ""
      }
     },
     "3b2d9c94f1244caba54eebcfbab1852e": {
      "model_module": "@jupyter-widgets/output",
      "model_module_version": "1.0.0",
      "model_name": "OutputModel",
      "state": {
       "layout": "IPY_MODEL_52b7c1fa96ca47409ab346c054a1cb0f",
       "outputs": [
        {
         "name": "stdout",
         "output_type": "stream",
         "text": "|1|011101111111\n|r|  →  R | r  (Scan to the rightmost digit...)\n"
        }
       ]
      }
     },
     "52b7c1fa96ca47409ab346c054a1cb0f": {
      "model_module": "@jupyter-widgets/base",
      "model_module_version": "1.2.0",
      "model_name": "LayoutModel",
      "state": {}
     },
     "709ce855217b42e28ff37d1f763fa7f8": {
      "model_module": "@jupyter-widgets/base",
      "model_module_version": "1.2.0",
      "model_name": "LayoutModel",
      "state": {}
     },
     "7483bba6d1ee4ccaabd095ef8a1ad93b": {
      "model_module": "@jupyter-widgets/controls",
      "model_module_version": "1.5.0",
      "model_name": "SliderStyleModel",
      "state": {
       "description_width": ""
      }
     },
     "8c796741407e496f93483472e23ecdf0": {
      "model_module": "@jupyter-widgets/controls",
      "model_module_version": "1.5.0",
      "model_name": "VBoxModel",
      "state": {
       "_dom_classes": [
        "widget-interact"
       ],
       "children": [
        "IPY_MODEL_a1cf955996784c8a8858d9d706c008d7",
        "IPY_MODEL_ce0d5d558a4c4a7189252ff314900a8f"
       ],
       "layout": "IPY_MODEL_e13bd05cc998499f8eefde571b7d36f7"
      }
     },
     "9241c0a3317144db8cb11058d08909b6": {
      "model_module": "@jupyter-widgets/base",
      "model_module_version": "1.2.0",
      "model_name": "LayoutModel",
      "state": {}
     },
     "a0266569deed4d4088490a1946738e4a": {
      "model_module": "@jupyter-widgets/base",
      "model_module_version": "1.2.0",
      "model_name": "LayoutModel",
      "state": {}
     },
     "a0fe1457f77f4b92856fbb81a0ae5d27": {
      "model_module": "@jupyter-widgets/controls",
      "model_module_version": "1.5.0",
      "model_name": "VBoxModel",
      "state": {
       "_dom_classes": [
        "widget-interact"
       ],
       "children": [
        "IPY_MODEL_b5c973c306d949c8a069e34890734261",
        "IPY_MODEL_0cc448b2e4e94fb59765661eb49485e3"
       ],
       "layout": "IPY_MODEL_085490e3fdb9404e8f86e3c4bb9cec46"
      }
     },
     "a1cf955996784c8a8858d9d706c008d7": {
      "model_module": "@jupyter-widgets/controls",
      "model_module_version": "1.5.0",
      "model_name": "IntSliderModel",
      "state": {
       "description": "s",
       "layout": "IPY_MODEL_9241c0a3317144db8cb11058d08909b6",
       "max": 99,
       "style": "IPY_MODEL_7483bba6d1ee4ccaabd095ef8a1ad93b"
      }
     },
     "adff5dd0f38c4c5d9892f415c65228b1": {
      "model_module": "@jupyter-widgets/base",
      "model_module_version": "1.2.0",
      "model_name": "LayoutModel",
      "state": {}
     },
     "b5c973c306d949c8a069e34890734261": {
      "model_module": "@jupyter-widgets/controls",
      "model_module_version": "1.5.0",
      "model_name": "IntSliderModel",
      "state": {
       "description": "s",
       "layout": "IPY_MODEL_056e5d6fac8944408c526bc13a023d38",
       "max": 999,
       "style": "IPY_MODEL_b6ff4b5baf4f438caa4042ccf7bfc44a",
       "value": 527
      }
     },
     "b6ff4b5baf4f438caa4042ccf7bfc44a": {
      "model_module": "@jupyter-widgets/controls",
      "model_module_version": "1.5.0",
      "model_name": "SliderStyleModel",
      "state": {
       "description_width": ""
      }
     },
     "c0ce7450661241ca86aff8cfafd07954": {
      "model_module": "@jupyter-widgets/base",
      "model_module_version": "1.2.0",
      "model_name": "LayoutModel",
      "state": {}
     },
     "cbc0aa71f9a5489a9017b7d25e2341c8": {
      "model_module": "@jupyter-widgets/controls",
      "model_module_version": "1.5.0",
      "model_name": "VBoxModel",
      "state": {
       "_dom_classes": [
        "widget-interact"
       ],
       "children": [
        "IPY_MODEL_e59214d199f6418198c4130de576f20d",
        "IPY_MODEL_3b2d9c94f1244caba54eebcfbab1852e"
       ],
       "layout": "IPY_MODEL_a0266569deed4d4088490a1946738e4a"
      }
     },
     "ce0d5d558a4c4a7189252ff314900a8f": {
      "model_module": "@jupyter-widgets/output",
      "model_module_version": "1.0.0",
      "model_name": "OutputModel",
      "state": {
       "layout": "IPY_MODEL_709ce855217b42e28ff37d1f763fa7f8",
       "outputs": [
        {
         "name": "stdout",
         "output_type": "stream",
         "text": "| |\n|b|\n"
        }
       ]
      }
     },
     "e13bd05cc998499f8eefde571b7d36f7": {
      "model_module": "@jupyter-widgets/base",
      "model_module_version": "1.2.0",
      "model_name": "LayoutModel",
      "state": {}
     },
     "e59214d199f6418198c4130de576f20d": {
      "model_module": "@jupyter-widgets/controls",
      "model_module_version": "1.5.0",
      "model_name": "IntSliderModel",
      "state": {
       "description": "s",
       "layout": "IPY_MODEL_adff5dd0f38c4c5d9892f415c65228b1",
       "max": 99,
       "style": "IPY_MODEL_2b6f6ecb2cf341a3bd9d26646b76105a"
      }
     }
    },
    "version_major": 2,
    "version_minor": 0
   }
  }
 },
 "nbformat": 4,
 "nbformat_minor": 4
}
