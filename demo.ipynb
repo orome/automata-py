{
 "cells": [
  {
   "cell_type": "code",
   "execution_count": 1,
   "metadata": {},
   "outputs": [],
   "source": [
    "from ipywidgets import interact, interactive, fixed, interact_manual\n",
    "import ipywidgets as widgets"
   ]
  },
  {
   "cell_type": "code",
   "execution_count": 2,
   "metadata": {},
   "outputs": [],
   "source": [
    "from machine import *"
   ]
  },
  {
   "cell_type": "code",
   "execution_count": 3,
   "metadata": {},
   "outputs": [],
   "source": [
    "# ?TuringMachine"
   ]
  },
  {
   "cell_type": "code",
   "execution_count": 4,
   "metadata": {},
   "outputs": [],
   "source": [
    "# ?TuringMachine.step"
   ]
  },
  {
   "cell_type": "code",
   "execution_count": 5,
   "metadata": {},
   "outputs": [],
   "source": [
    "# ?TuringMachine.steps"
   ]
  },
  {
   "cell_type": "code",
   "execution_count": 6,
   "metadata": {},
   "outputs": [],
   "source": [
    "#%load examples.py"
   ]
  },
  {
   "cell_type": "code",
   "execution_count": 7,
   "metadata": {},
   "outputs": [],
   "source": [
    "# Alternating 1s and 0s with blanks (Petzold p. 81, Turing p. 233))\n",
    "alternate = {\n",
    "    'b':\n",
    "        {E: (['0', R], 'c')},\n",
    "    'c':\n",
    "        {E: Behavior([R], 'e')},\n",
    "    'e':\n",
    "        {E: (['1', R], 'f')},\n",
    "    'f':\n",
    "        {E: ([R], 'b')}\n",
    "}\n",
    "alternate_machine = TuringMachine('b', alternate)"
   ]
  },
  {
   "cell_type": "code",
   "execution_count": 8,
   "metadata": {},
   "outputs": [],
   "source": [
    "# Alternating 1s and 0s with blanks and allowing multiple operations (Petzold p. 84, Turing p. 234)\n",
    "alternate_compact = {\n",
    "    'b':\n",
    "        {E: (['0'], 'b'),\n",
    "         '0': ([R, R, '1'], 'b'),\n",
    "         '1': ([R, R, '0'], 'b')}\n",
    "}\n",
    "alternate_compact_machine = TuringMachine('b', alternate_compact)"
   ]
  },
  {
   "cell_type": "code",
   "execution_count": 9,
   "metadata": {},
   "outputs": [],
   "source": [
    "# Alternating 1s and 0s with blanks, in standard form (Petzold p. 139, Turing p. 241))\n",
    "alternate_standard = {\n",
    "    'b':\n",
    "        {E: (['0', R], 'c')},\n",
    "    'c':\n",
    "        {E: ([E, R], 'e')},\n",
    "    'e':\n",
    "        {E: (['1', R], 'f')},\n",
    "    'f':\n",
    "        {E: ([E, R], 'b')}\n",
    "}\n",
    "alternate_standard_machine = TuringMachine('b', alternate_standard)"
   ]
  },
  {
   "cell_type": "code",
   "execution_count": 10,
   "metadata": {},
   "outputs": [],
   "source": [
    "# Binary increment (https://turingmachine.io)\n",
    "increment = {\n",
    "    'r':\n",
    "        {E: ([L], 'c', \"Scanning complete: backup and enter c\"),\n",
    "         ('0', '1'): ([R], 'r', \"Scan to the rightmost digit...\")},\n",
    "    'c':\n",
    "        {(E, '0'): (['1', L], 'd', \"Done: complete carry and enter d\"),\n",
    "         '1': (['0', L], 'c', \"Carry...\")}\n",
    "}\n",
    "increment_machine = TuringMachine('r', increment, initial_tape='1011101111111')"
   ]
  },
  {
   "cell_type": "code",
   "execution_count": 11,
   "metadata": {},
   "outputs": [],
   "source": [
    "increasing = {\n",
    "    'b':\n",
    "        {E: (['ə', R, 'ə', R, '0', R, R, '0', L, L], 'o', \"Initialize\")},\n",
    "    'o':\n",
    "        {'1': ([R, 'x', L, L, L], 'o', \"Mark a block of consecutive 1s...\"),\n",
    "         '0': ([], 'q', \"Done marking 1s\")},\n",
    "    'q':\n",
    "        {('0', '1'): ([R, R], 'q', \"Scan right along written F squares...\"), \n",
    "         E: (['1', L], 'p', \"Write a 1 and move to the preceding E square\")},\n",
    "    'p':\n",
    "        {'x': ([E, R], 'q'),\n",
    "         'ə': ([R], 'f'),\n",
    "         E: ([L, L], 'p')},\n",
    "    'f':\n",
    "        {('0', '1'): ([R, R], 'f', \"Scan right along written F squares...\"), \n",
    "         E: (['0', L, L], 'o', \"Write a 0 and move to the preceding F square\")},\n",
    "}\n",
    "increasing_machine = TuringMachine('b', increasing, initial_tape=E)"
   ]
  },
  {
   "cell_type": "code",
   "execution_count": 12,
   "metadata": {},
   "outputs": [],
   "source": [
    "alt_steps = [step.display_text() for step in alternate_machine.steps(100)]"
   ]
  },
  {
   "cell_type": "code",
   "execution_count": 13,
   "metadata": {},
   "outputs": [
    {
     "data": {
      "application/vnd.jupyter.widget-view+json": {
       "model_id": "c26039e263f740e2afc678f7508c9efa",
       "version_major": 2,
       "version_minor": 0
      },
      "text/plain": [
       "interactive(children=(IntSlider(value=0, description='s', max=99), Output()), _dom_classes=('widget-interact',…"
      ]
     },
     "metadata": {},
     "output_type": "display_data"
    }
   ],
   "source": [
    "@interact(s=(0,99,1))\n",
    "def show_alt_step(s=0):\n",
    "    print(alt_steps[s])\n",
    "    return"
   ]
  },
  {
   "cell_type": "code",
   "execution_count": 19,
   "metadata": {},
   "outputs": [],
   "source": [
    "add_steps = [step.display_text(show_comments=True, show_behavior=True) for step in increment_machine.steps(100)]"
   ]
  },
  {
   "cell_type": "code",
   "execution_count": 20,
   "metadata": {},
   "outputs": [
    {
     "data": {
      "application/vnd.jupyter.widget-view+json": {
       "model_id": "c58105b9501342139ac33b6882b1f3bc",
       "version_major": 2,
       "version_minor": 0
      },
      "text/plain": [
       "interactive(children=(IntSlider(value=0, description='s', max=99), Output()), _dom_classes=('widget-interact',…"
      ]
     },
     "metadata": {},
     "output_type": "display_data"
    }
   ],
   "source": [
    "@interact(s=(0,99,1))\n",
    "def show_add_step(s=0):\n",
    "    print(add_steps[s])\n",
    "    return"
   ]
  },
  {
   "cell_type": "code",
   "execution_count": 21,
   "metadata": {},
   "outputs": [],
   "source": [
    "inc_steps = [step.display_text(symbol_highlight=\"\\u001b[47m\\u001b[30;1m{}\\u001b[0m\",\n",
    "                               m_config_highlight=\"\\u001b[30;1m{}\\u001b[0m\", \n",
    "                               show_step=True, # step_pad=(5,'0'),\n",
    "                               annotations_highlight=\"\\u001b[37;2m{}\\u001b[0m\",\n",
    "                               show_comments=True, show_behavior=True) \n",
    "             for step in increasing_machine.steps(1000)]"
   ]
  },
  {
   "cell_type": "code",
   "execution_count": 22,
   "metadata": {},
   "outputs": [
    {
     "data": {
      "application/vnd.jupyter.widget-view+json": {
       "model_id": "e9faab83d65744e091ac673375106c56",
       "version_major": 2,
       "version_minor": 0
      },
      "text/plain": [
       "interactive(children=(IntSlider(value=0, description='s', max=999), Output()), _dom_classes=('widget-interact'…"
      ]
     },
     "metadata": {},
     "output_type": "display_data"
    }
   ],
   "source": [
    "@interact(s=(0,999,1))\n",
    "def show_inc_step(s=0):\n",
    "    print(inc_steps[s])\n",
    "    return"
   ]
  }
 ],
 "metadata": {
  "kernelspec": {
   "display_name": "automata (Python 3, venv)",
   "language": "python",
   "name": "automata_env"
  },
  "language_info": {
   "codemirror_mode": {
    "name": "ipython",
    "version": 3
   },
   "file_extension": ".py",
   "mimetype": "text/x-python",
   "name": "python",
   "nbconvert_exporter": "python",
   "pygments_lexer": "ipython3",
   "version": "3.9.6"
  },
  "widgets": {
   "application/vnd.jupyter.widget-state+json": {
    "state": {
     "224763433b9c4d0dbb13f4e90f9a4bad": {
      "model_module": "@jupyter-widgets/controls",
      "model_module_version": "1.5.0",
      "model_name": "IntSliderModel",
      "state": {
       "description": "s",
       "layout": "IPY_MODEL_6ddc7bb6fdfb4e3b81fb481dcfccb190",
       "max": 99,
       "style": "IPY_MODEL_36cb9569cb9c431ba6041da16c55be13",
       "value": 45
      }
     },
     "36cb9569cb9c431ba6041da16c55be13": {
      "model_module": "@jupyter-widgets/controls",
      "model_module_version": "1.5.0",
      "model_name": "SliderStyleModel",
      "state": {
       "description_width": ""
      }
     },
     "62a9b612d0e148459b69e54f7952a73e": {
      "model_module": "@jupyter-widgets/base",
      "model_module_version": "1.2.0",
      "model_name": "LayoutModel",
      "state": {}
     },
     "62f52c74d3a741b9b1d1c41bafd85ae5": {
      "model_module": "@jupyter-widgets/output",
      "model_module_version": "1.0.0",
      "model_name": "OutputModel",
      "state": {
       "layout": "IPY_MODEL_728026c4ae5940d3928d69a9347615f3",
       "outputs": [
        {
         "name": "stdout",
         "output_type": "stream",
         "text": "0 1 0 1 0 1 0 1 0 1 0 1 0 1 0 1 0 1 0 1 0 1 0| |\n                                             |c|\n"
        }
       ]
      }
     },
     "6ddc7bb6fdfb4e3b81fb481dcfccb190": {
      "model_module": "@jupyter-widgets/base",
      "model_module_version": "1.2.0",
      "model_name": "LayoutModel",
      "state": {}
     },
     "728026c4ae5940d3928d69a9347615f3": {
      "model_module": "@jupyter-widgets/base",
      "model_module_version": "1.2.0",
      "model_name": "LayoutModel",
      "state": {}
     },
     "c26039e263f740e2afc678f7508c9efa": {
      "model_module": "@jupyter-widgets/controls",
      "model_module_version": "1.5.0",
      "model_name": "VBoxModel",
      "state": {
       "_dom_classes": [
        "widget-interact"
       ],
       "children": [
        "IPY_MODEL_224763433b9c4d0dbb13f4e90f9a4bad",
        "IPY_MODEL_62f52c74d3a741b9b1d1c41bafd85ae5"
       ],
       "layout": "IPY_MODEL_62a9b612d0e148459b69e54f7952a73e"
      }
     }
    },
    "version_major": 2,
    "version_minor": 0
   }
  }
 },
 "nbformat": 4,
 "nbformat_minor": 4
}
